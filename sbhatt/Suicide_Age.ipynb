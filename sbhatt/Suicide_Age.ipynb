{
 "cells": [
  {
   "cell_type": "code",
   "execution_count": 1,
   "metadata": {},
   "outputs": [],
   "source": [
    "#Dependencies\n",
    "\n",
    "import requests\n",
    "import json\n",
    "from matplotlib import pyplot as plt\n",
    "from scipy.stats import linregress\n",
    "import numpy as np\n",
    "import pandas as pd\n",
    "import matplotlib.pyplot as plt\n"
   ]
  },
  {
   "cell_type": "code",
   "execution_count": 2,
   "metadata": {},
   "outputs": [
    {
     "data": {
      "text/html": [
       "<div>\n",
       "<style scoped>\n",
       "    .dataframe tbody tr th:only-of-type {\n",
       "        vertical-align: middle;\n",
       "    }\n",
       "\n",
       "    .dataframe tbody tr th {\n",
       "        vertical-align: top;\n",
       "    }\n",
       "\n",
       "    .dataframe thead th {\n",
       "        text-align: right;\n",
       "    }\n",
       "</style>\n",
       "<table border=\"1\" class=\"dataframe\">\n",
       "  <thead>\n",
       "    <tr style=\"text-align: right;\">\n",
       "      <th></th>\n",
       "      <th>Entity</th>\n",
       "      <th>Code</th>\n",
       "      <th>Year</th>\n",
       "      <th>All ages (per 100,000)</th>\n",
       "      <th>70+ years old (per 100,000)</th>\n",
       "      <th>50-69 years old (per 100,000)</th>\n",
       "      <th>15-49 years old (per 100,000)</th>\n",
       "      <th>5-14 years old (per 100,000)</th>\n",
       "      <th>Age-standardized (per 100,000)</th>\n",
       "    </tr>\n",
       "  </thead>\n",
       "  <tbody>\n",
       "    <tr>\n",
       "      <th>0</th>\n",
       "      <td>Afghanistan</td>\n",
       "      <td>AFG</td>\n",
       "      <td>1990</td>\n",
       "      <td>5.895373</td>\n",
       "      <td>18.010179</td>\n",
       "      <td>8.941423</td>\n",
       "      <td>11.099777</td>\n",
       "      <td>0.410967</td>\n",
       "      <td>9.210877</td>\n",
       "    </tr>\n",
       "    <tr>\n",
       "      <th>1</th>\n",
       "      <td>Afghanistan</td>\n",
       "      <td>AFG</td>\n",
       "      <td>1991</td>\n",
       "      <td>6.011665</td>\n",
       "      <td>18.072845</td>\n",
       "      <td>9.158262</td>\n",
       "      <td>11.214831</td>\n",
       "      <td>0.414742</td>\n",
       "      <td>9.344000</td>\n",
       "    </tr>\n",
       "    <tr>\n",
       "      <th>2</th>\n",
       "      <td>Afghanistan</td>\n",
       "      <td>AFG</td>\n",
       "      <td>1992</td>\n",
       "      <td>6.130514</td>\n",
       "      <td>17.993764</td>\n",
       "      <td>9.364500</td>\n",
       "      <td>11.330904</td>\n",
       "      <td>0.418220</td>\n",
       "      <td>9.469053</td>\n",
       "    </tr>\n",
       "    <tr>\n",
       "      <th>3</th>\n",
       "      <td>Afghanistan</td>\n",
       "      <td>AFG</td>\n",
       "      <td>1993</td>\n",
       "      <td>6.244526</td>\n",
       "      <td>18.095485</td>\n",
       "      <td>9.550515</td>\n",
       "      <td>11.444176</td>\n",
       "      <td>0.423134</td>\n",
       "      <td>9.581032</td>\n",
       "    </tr>\n",
       "    <tr>\n",
       "      <th>4</th>\n",
       "      <td>Afghanistan</td>\n",
       "      <td>AFG</td>\n",
       "      <td>1994</td>\n",
       "      <td>6.402756</td>\n",
       "      <td>18.294775</td>\n",
       "      <td>9.807171</td>\n",
       "      <td>11.668494</td>\n",
       "      <td>0.432550</td>\n",
       "      <td>9.778655</td>\n",
       "    </tr>\n",
       "  </tbody>\n",
       "</table>\n",
       "</div>"
      ],
      "text/plain": [
       "        Entity Code  Year  All ages (per 100,000)  \\\n",
       "0  Afghanistan  AFG  1990                5.895373   \n",
       "1  Afghanistan  AFG  1991                6.011665   \n",
       "2  Afghanistan  AFG  1992                6.130514   \n",
       "3  Afghanistan  AFG  1993                6.244526   \n",
       "4  Afghanistan  AFG  1994                6.402756   \n",
       "\n",
       "   70+ years old (per 100,000)  50-69 years old (per 100,000)  \\\n",
       "0                    18.010179                       8.941423   \n",
       "1                    18.072845                       9.158262   \n",
       "2                    17.993764                       9.364500   \n",
       "3                    18.095485                       9.550515   \n",
       "4                    18.294775                       9.807171   \n",
       "\n",
       "   15-49 years old (per 100,000)  5-14 years old (per 100,000)  \\\n",
       "0                      11.099777                      0.410967   \n",
       "1                      11.214831                      0.414742   \n",
       "2                      11.330904                      0.418220   \n",
       "3                      11.444176                      0.423134   \n",
       "4                      11.668494                      0.432550   \n",
       "\n",
       "   Age-standardized (per 100,000)  \n",
       "0                        9.210877  \n",
       "1                        9.344000  \n",
       "2                        9.469053  \n",
       "3                        9.581032  \n",
       "4                        9.778655  "
      ]
     },
     "execution_count": 2,
     "metadata": {},
     "output_type": "execute_result"
    }
   ],
   "source": [
    "age_file = \"suicide-death-rate-by-age.csv\"\n",
    "sr_by_age = pd.read_csv(age_file)\n",
    "sr_by_age.head()"
   ]
  },
  {
   "cell_type": "code",
   "execution_count": 3,
   "metadata": {},
   "outputs": [],
   "source": [
    "#step1 = sr_by_age.groupby (by = \"Entity\", as_index = True)\n",
    "#step2 = step1.sum()"
   ]
  },
  {
   "cell_type": "code",
   "execution_count": 4,
   "metadata": {},
   "outputs": [],
   "source": [
    "#step2#.columns"
   ]
  },
  {
   "cell_type": "code",
   "execution_count": 5,
   "metadata": {},
   "outputs": [
    {
     "data": {
      "text/html": [
       "<div>\n",
       "<style scoped>\n",
       "    .dataframe tbody tr th:only-of-type {\n",
       "        vertical-align: middle;\n",
       "    }\n",
       "\n",
       "    .dataframe tbody tr th {\n",
       "        vertical-align: top;\n",
       "    }\n",
       "\n",
       "    .dataframe thead th {\n",
       "        text-align: right;\n",
       "    }\n",
       "</style>\n",
       "<table border=\"1\" class=\"dataframe\">\n",
       "  <thead>\n",
       "    <tr style=\"text-align: right;\">\n",
       "      <th></th>\n",
       "      <th>index</th>\n",
       "      <th>Entity</th>\n",
       "      <th>Code</th>\n",
       "      <th>Year</th>\n",
       "      <th>All ages (per 100,000)</th>\n",
       "      <th>70+ years old (per 100,000)</th>\n",
       "      <th>50-69 years old (per 100,000)</th>\n",
       "      <th>15-49 years old (per 100,000)</th>\n",
       "      <th>5-14 years old (per 100,000)</th>\n",
       "      <th>Age-standardized (per 100,000)</th>\n",
       "    </tr>\n",
       "  </thead>\n",
       "  <tbody>\n",
       "    <tr>\n",
       "      <th>0</th>\n",
       "      <td>10</td>\n",
       "      <td>Afghanistan</td>\n",
       "      <td>AFG</td>\n",
       "      <td>2000</td>\n",
       "      <td>6.627822</td>\n",
       "      <td>19.050460</td>\n",
       "      <td>10.332551</td>\n",
       "      <td>12.216295</td>\n",
       "      <td>0.429288</td>\n",
       "      <td>10.263789</td>\n",
       "    </tr>\n",
       "    <tr>\n",
       "      <th>1</th>\n",
       "      <td>20</td>\n",
       "      <td>Afghanistan</td>\n",
       "      <td>AFG</td>\n",
       "      <td>2010</td>\n",
       "      <td>6.479521</td>\n",
       "      <td>20.399820</td>\n",
       "      <td>10.330032</td>\n",
       "      <td>11.788987</td>\n",
       "      <td>0.380752</td>\n",
       "      <td>10.151342</td>\n",
       "    </tr>\n",
       "    <tr>\n",
       "      <th>2</th>\n",
       "      <td>25</td>\n",
       "      <td>Afghanistan</td>\n",
       "      <td>AFG</td>\n",
       "      <td>2015</td>\n",
       "      <td>6.704211</td>\n",
       "      <td>20.146881</td>\n",
       "      <td>10.275797</td>\n",
       "      <td>11.655039</td>\n",
       "      <td>0.462305</td>\n",
       "      <td>10.133863</td>\n",
       "    </tr>\n",
       "    <tr>\n",
       "      <th>3</th>\n",
       "      <td>37</td>\n",
       "      <td>Albania</td>\n",
       "      <td>ALB</td>\n",
       "      <td>2000</td>\n",
       "      <td>5.584430</td>\n",
       "      <td>8.891786</td>\n",
       "      <td>6.302860</td>\n",
       "      <td>8.166355</td>\n",
       "      <td>0.703493</td>\n",
       "      <td>5.935824</td>\n",
       "    </tr>\n",
       "    <tr>\n",
       "      <th>4</th>\n",
       "      <td>47</td>\n",
       "      <td>Albania</td>\n",
       "      <td>ALB</td>\n",
       "      <td>2010</td>\n",
       "      <td>6.667050</td>\n",
       "      <td>10.123944</td>\n",
       "      <td>7.151608</td>\n",
       "      <td>8.571616</td>\n",
       "      <td>0.991047</td>\n",
       "      <td>6.382372</td>\n",
       "    </tr>\n",
       "  </tbody>\n",
       "</table>\n",
       "</div>"
      ],
      "text/plain": [
       "   index       Entity Code  Year  All ages (per 100,000)  \\\n",
       "0     10  Afghanistan  AFG  2000                6.627822   \n",
       "1     20  Afghanistan  AFG  2010                6.479521   \n",
       "2     25  Afghanistan  AFG  2015                6.704211   \n",
       "3     37      Albania  ALB  2000                5.584430   \n",
       "4     47      Albania  ALB  2010                6.667050   \n",
       "\n",
       "   70+ years old (per 100,000)  50-69 years old (per 100,000)  \\\n",
       "0                    19.050460                      10.332551   \n",
       "1                    20.399820                      10.330032   \n",
       "2                    20.146881                      10.275797   \n",
       "3                     8.891786                       6.302860   \n",
       "4                    10.123944                       7.151608   \n",
       "\n",
       "   15-49 years old (per 100,000)  5-14 years old (per 100,000)  \\\n",
       "0                      12.216295                      0.429288   \n",
       "1                      11.788987                      0.380752   \n",
       "2                      11.655039                      0.462305   \n",
       "3                       8.166355                      0.703493   \n",
       "4                       8.571616                      0.991047   \n",
       "\n",
       "   Age-standardized (per 100,000)  \n",
       "0                       10.263789  \n",
       "1                       10.151342  \n",
       "2                       10.133863  \n",
       "3                        5.935824  \n",
       "4                        6.382372  "
      ]
     },
     "execution_count": 5,
     "metadata": {},
     "output_type": "execute_result"
    }
   ],
   "source": [
    "step1 = sr_by_age[(sr_by_age['Year'] == 2000) | (sr_by_age['Year'] == 2010) | (sr_by_age['Year'] == 2015)]\n",
    "step1.reset_index(inplace = True)\n",
    "step1.head()"
   ]
  },
  {
   "cell_type": "code",
   "execution_count": 6,
   "metadata": {},
   "outputs": [
    {
     "data": {
      "text/html": [
       "<div>\n",
       "<style scoped>\n",
       "    .dataframe tbody tr th:only-of-type {\n",
       "        vertical-align: middle;\n",
       "    }\n",
       "\n",
       "    .dataframe tbody tr th {\n",
       "        vertical-align: top;\n",
       "    }\n",
       "\n",
       "    .dataframe thead th {\n",
       "        text-align: right;\n",
       "    }\n",
       "</style>\n",
       "<table border=\"1\" class=\"dataframe\">\n",
       "  <thead>\n",
       "    <tr style=\"text-align: right;\">\n",
       "      <th></th>\n",
       "      <th>Country</th>\n",
       "      <th>Year</th>\n",
       "      <th>70+</th>\n",
       "      <th>50-69</th>\n",
       "      <th>15-49</th>\n",
       "      <th>5-14</th>\n",
       "      <th>Age-standardized</th>\n",
       "    </tr>\n",
       "  </thead>\n",
       "  <tbody>\n",
       "    <tr>\n",
       "      <th>0</th>\n",
       "      <td>Afghanistan</td>\n",
       "      <td>2000</td>\n",
       "      <td>19.050460</td>\n",
       "      <td>10.332551</td>\n",
       "      <td>12.216295</td>\n",
       "      <td>0.429288</td>\n",
       "      <td>10.263789</td>\n",
       "    </tr>\n",
       "    <tr>\n",
       "      <th>1</th>\n",
       "      <td>Afghanistan</td>\n",
       "      <td>2010</td>\n",
       "      <td>20.399820</td>\n",
       "      <td>10.330032</td>\n",
       "      <td>11.788987</td>\n",
       "      <td>0.380752</td>\n",
       "      <td>10.151342</td>\n",
       "    </tr>\n",
       "    <tr>\n",
       "      <th>2</th>\n",
       "      <td>Afghanistan</td>\n",
       "      <td>2015</td>\n",
       "      <td>20.146881</td>\n",
       "      <td>10.275797</td>\n",
       "      <td>11.655039</td>\n",
       "      <td>0.462305</td>\n",
       "      <td>10.133863</td>\n",
       "    </tr>\n",
       "    <tr>\n",
       "      <th>3</th>\n",
       "      <td>Albania</td>\n",
       "      <td>2000</td>\n",
       "      <td>8.891786</td>\n",
       "      <td>6.302860</td>\n",
       "      <td>8.166355</td>\n",
       "      <td>0.703493</td>\n",
       "      <td>5.935824</td>\n",
       "    </tr>\n",
       "    <tr>\n",
       "      <th>4</th>\n",
       "      <td>Albania</td>\n",
       "      <td>2010</td>\n",
       "      <td>10.123944</td>\n",
       "      <td>7.151608</td>\n",
       "      <td>8.571616</td>\n",
       "      <td>0.991047</td>\n",
       "      <td>6.382372</td>\n",
       "    </tr>\n",
       "  </tbody>\n",
       "</table>\n",
       "</div>"
      ],
      "text/plain": [
       "       Country  Year        70+      50-69      15-49      5-14  \\\n",
       "0  Afghanistan  2000  19.050460  10.332551  12.216295  0.429288   \n",
       "1  Afghanistan  2010  20.399820  10.330032  11.788987  0.380752   \n",
       "2  Afghanistan  2015  20.146881  10.275797  11.655039  0.462305   \n",
       "3      Albania  2000   8.891786   6.302860   8.166355  0.703493   \n",
       "4      Albania  2010  10.123944   7.151608   8.571616  0.991047   \n",
       "\n",
       "   Age-standardized  \n",
       "0         10.263789  \n",
       "1         10.151342  \n",
       "2         10.133863  \n",
       "3          5.935824  \n",
       "4          6.382372  "
      ]
     },
     "execution_count": 6,
     "metadata": {},
     "output_type": "execute_result"
    }
   ],
   "source": [
    "step1 = step1.drop([\"index\", \"Code\",\"All ages (per 100,000)\"], axis=1)\n",
    "step2 = step1.rename(columns = {\"Entity\" : \"Country\", \"70+ years old (per 100,000)\" : \"70+\",\n",
    "                               \"50-69 years old (per 100,000)\" : \"50-69\",\n",
    "                               \"15-49 years old (per 100,000)\" : \"15-49\",\n",
    "                               \"5-14 years old (per 100,000)\" : \"5-14\",\n",
    "                               \"Age-standardized (per 100,000)\" : \"Age-standardized\"})\n",
    "step2.head()\n"
   ]
  },
  {
   "cell_type": "code",
   "execution_count": 7,
   "metadata": {},
   "outputs": [
    {
     "data": {
      "text/html": [
       "<div>\n",
       "<style scoped>\n",
       "    .dataframe tbody tr th:only-of-type {\n",
       "        vertical-align: middle;\n",
       "    }\n",
       "\n",
       "    .dataframe tbody tr th {\n",
       "        vertical-align: top;\n",
       "    }\n",
       "\n",
       "    .dataframe thead th {\n",
       "        text-align: right;\n",
       "    }\n",
       "</style>\n",
       "<table border=\"1\" class=\"dataframe\">\n",
       "  <thead>\n",
       "    <tr style=\"text-align: right;\">\n",
       "      <th></th>\n",
       "      <th>Year</th>\n",
       "      <th>70+</th>\n",
       "      <th>50-69</th>\n",
       "      <th>15-49</th>\n",
       "      <th>5-14</th>\n",
       "      <th>Age-standardized</th>\n",
       "    </tr>\n",
       "    <tr>\n",
       "      <th>Country</th>\n",
       "      <th></th>\n",
       "      <th></th>\n",
       "      <th></th>\n",
       "      <th></th>\n",
       "      <th></th>\n",
       "      <th></th>\n",
       "    </tr>\n",
       "  </thead>\n",
       "  <tbody>\n",
       "    <tr>\n",
       "      <th>Afghanistan</th>\n",
       "      <td>6025</td>\n",
       "      <td>59.597161</td>\n",
       "      <td>30.938380</td>\n",
       "      <td>35.660322</td>\n",
       "      <td>1.272346</td>\n",
       "      <td>30.548994</td>\n",
       "    </tr>\n",
       "    <tr>\n",
       "      <th>Albania</th>\n",
       "      <td>6025</td>\n",
       "      <td>28.440555</td>\n",
       "      <td>20.246626</td>\n",
       "      <td>24.462944</td>\n",
       "      <td>2.465123</td>\n",
       "      <td>18.071137</td>\n",
       "    </tr>\n",
       "    <tr>\n",
       "      <th>Algeria</th>\n",
       "      <td>6025</td>\n",
       "      <td>18.958949</td>\n",
       "      <td>13.475690</td>\n",
       "      <td>15.042717</td>\n",
       "      <td>0.732727</td>\n",
       "      <td>11.455080</td>\n",
       "    </tr>\n",
       "    <tr>\n",
       "      <th>American Samoa</th>\n",
       "      <td>6025</td>\n",
       "      <td>34.469222</td>\n",
       "      <td>23.039687</td>\n",
       "      <td>28.933607</td>\n",
       "      <td>1.436972</td>\n",
       "      <td>21.782754</td>\n",
       "    </tr>\n",
       "    <tr>\n",
       "      <th>Andean Latin America</th>\n",
       "      <td>6025</td>\n",
       "      <td>30.759129</td>\n",
       "      <td>21.869385</td>\n",
       "      <td>21.240253</td>\n",
       "      <td>2.760179</td>\n",
       "      <td>16.861334</td>\n",
       "    </tr>\n",
       "  </tbody>\n",
       "</table>\n",
       "</div>"
      ],
      "text/plain": [
       "                      Year        70+      50-69      15-49      5-14  \\\n",
       "Country                                                                 \n",
       "Afghanistan           6025  59.597161  30.938380  35.660322  1.272346   \n",
       "Albania               6025  28.440555  20.246626  24.462944  2.465123   \n",
       "Algeria               6025  18.958949  13.475690  15.042717  0.732727   \n",
       "American Samoa        6025  34.469222  23.039687  28.933607  1.436972   \n",
       "Andean Latin America  6025  30.759129  21.869385  21.240253  2.760179   \n",
       "\n",
       "                      Age-standardized  \n",
       "Country                                 \n",
       "Afghanistan                  30.548994  \n",
       "Albania                      18.071137  \n",
       "Algeria                      11.455080  \n",
       "American Samoa               21.782754  \n",
       "Andean Latin America         16.861334  "
      ]
     },
     "execution_count": 7,
     "metadata": {},
     "output_type": "execute_result"
    }
   ],
   "source": [
    "step3 = step2.groupby(by = [\"Country\"], as_index = True)\n",
    "step4 = step3.sum()\n",
    "step4.head()"
   ]
  },
  {
   "cell_type": "code",
   "execution_count": 8,
   "metadata": {},
   "outputs": [],
   "source": [
    "step5 = step4.sort_values([\"Age-standardized\"], ascending=False)\n",
    "step5.reset_index(inplace=True)\n",
    "step6 = step5.head()"
   ]
  },
  {
   "cell_type": "code",
   "execution_count": 9,
   "metadata": {},
   "outputs": [
    {
     "data": {
      "text/plain": [
       "['Greenland', 'Lesotho', 'Russia', 'Lithuania', 'Eastern Europe']"
      ]
     },
     "execution_count": 9,
     "metadata": {},
     "output_type": "execute_result"
    }
   ],
   "source": [
    "top_5_sr_age_countries = list(step6['Country'])\n",
    "top_5_sr_age_countries"
   ]
  },
  {
   "cell_type": "code",
   "execution_count": 10,
   "metadata": {},
   "outputs": [
    {
     "name": "stdout",
     "output_type": "stream",
     "text": [
      "     Country    Year       5-14       15-49      50-69         70+\n",
      "0  Greenland  2000.0  18.644972  156.399292  98.916166  117.058991\n",
      "1  Greenland  2010.0  16.212726  130.146875  82.687430  108.585301\n",
      "2  Greenland  2015.0  13.567881  113.881004  71.070038  102.720357\n"
     ]
    },
    {
     "data": {
      "image/png": "[encoded data removed]",
      "text/plain": [
       "<Figure size 432x288 with 1 Axes>"
      ]
     },
     "metadata": {
      "needs_background": "light"
     },
     "output_type": "display_data"
    },
    {
     "name": "stdout",
     "output_type": "stream",
     "text": [
      "   Country    Year      5-14      15-49      50-69         70+\n",
      "0  Lesotho  2000.0  0.229298  25.592969  60.066495  106.967185\n",
      "1  Lesotho  2010.0  0.297418  31.802557  68.585770  122.425713\n",
      "2  Lesotho  2015.0  0.278575  32.888072  68.640059  124.721803\n"
     ]
    },
    {
     "data": {
      "image/png": "[encoded data removed]",
      "text/plain": [
       "<Figure size 432x288 with 1 Axes>"
      ]
     },
     "metadata": {
      "needs_background": "light"
     },
     "output_type": "display_data"
    },
    {
     "name": "stdout",
     "output_type": "stream",
     "text": [
      "  Country    Year      5-14      15-49      50-69        70+\n",
      "0  Russia  2000.0  2.596544  61.221777  67.311124  55.642775\n",
      "1  Russia  2010.0  1.495024  45.707734  45.691999  42.818131\n",
      "2  Russia  2015.0  1.290356  43.208279  41.295066  41.421144\n"
     ]
    },
    {
     "data": {
      "image/png": "[encoded data removed]",
      "text/plain": [
       "<Figure size 432x288 with 1 Axes>"
      ]
     },
     "metadata": {
      "needs_background": "light"
     },
     "output_type": "display_data"
    },
    {
     "name": "stdout",
     "output_type": "stream",
     "text": [
      "     Country    Year      5-14      15-49      50-69        70+\n",
      "0  Lithuania  2000.0  1.399938  53.707323  70.430252  47.496872\n",
      "1  Lithuania  2010.0  1.130260  45.422580  59.873073  41.168186\n",
      "2  Lithuania  2015.0  1.017136  40.507529  53.313206  38.773354\n"
     ]
    },
    {
     "data": {
      "image/png": "[encoded data removed]",
      "text/plain": [
       "<Figure size 432x288 with 1 Axes>"
      ]
     },
     "metadata": {
      "needs_background": "light"
     },
     "output_type": "display_data"
    },
    {
     "name": "stdout",
     "output_type": "stream",
     "text": [
      "          Country    Year      5-14      15-49      50-69        70+\n",
      "0  Eastern Europe  2000.0  2.275390  54.767170  63.179542  51.309878\n",
      "1  Eastern Europe  2010.0  1.352605  40.660186  43.253435  39.159225\n",
      "2  Eastern Europe  2015.0  1.133195  38.082375  38.855978  37.470871\n"
     ]
    },
    {
     "data": {
      "image/png": "[encoded data removed]",
      "text/plain": [
       "<Figure size 432x288 with 1 Axes>"
      ]
     },
     "metadata": {
      "needs_background": "light"
     },
     "output_type": "display_data"
    }
   ],
   "source": [
    "x_axis = step2['Year'].unique()\n",
    "for country in list(top_5_sr_age_countries):\n",
    "    #print (country)\n",
    "    df_name = 'sr_age_df_' + country\n",
    "    #print(df_name)\n",
    "    df_name = pd.DataFrame()\n",
    "    for index,row in step2.iterrows():\n",
    "        if row['Country'] == country:\n",
    "            df_name = df_name.append({'Country' : row['Country'], 'Year' : row['Year'], '70+' : row['70+'], '50-69' : row['50-69'], '15-49' : row ['15-49'], '5-14' : row ['5-14']}, ignore_index=True)\n",
    "    df_name = df_name [['Country', 'Year', '5-14', '15-49', '50-69', '70+']]\n",
    "    print (df_name)\n",
    "    \n",
    "    y_age_5_14 = list (df_name['5-14'])\n",
    "    y_age_15_49 = list (df_name['15-49'])\n",
    "    y_age_50_69 = list (df_name['50-69'])\n",
    "    y_age_70plus = list (df_name['70+'])\n",
    "    \n",
    "    fig, ax = plt.subplots()\n",
    "\n",
    "    line1, = ax.plot(x_axis, y_age_70plus, label =  '70+', linewidth=1, marker=\".\")\n",
    "    line2, = ax.plot(x_axis, y_age_50_69, label =  '50-69', linewidth=1, marker=\".\")\n",
    "    line3, = ax.plot(x_axis, y_age_15_49, label =  '15-49', linewidth=1, marker=\".\")\n",
    "    line4, = ax.plot(x_axis, y_age_5_14, label =  '5-14', linewidth=1, marker=\".\")\n",
    "\n",
    "    ax.legend(loc='best')\n",
    "    plt.title(f\"Suicide Rate by Age for {country}\")\n",
    "    plt.xlabel(\"Years\")\n",
    "    plt.ylabel(\"Suicide Rate per 100,000\")\n",
    "    plt.grid()\n",
    "    plt.savefig(f\"Images/Suicide_Rate_by_Age_for_{country}.png\")\n",
    "    plt.show()\n"
   ]
  },
  {
   "cell_type": "code",
   "execution_count": null,
   "metadata": {},
   "outputs": [],
   "source": []
  }
 ],
 "metadata": {
  "kernelspec": {
   "display_name": "Python 3",
   "language": "python",
   "name": "python3"
  },
  "language_info": {
   "codemirror_mode": {
    "name": "ipython",
    "version": 3
   },
   "file_extension": ".py",
   "mimetype": "text/x-python",
   "name": "python",
   "nbconvert_exporter": "python",
   "pygments_lexer": "ipython3",
   "version": "3.7.1"
  }
 },
 "nbformat": 4,
 "nbformat_minor": 2
}
