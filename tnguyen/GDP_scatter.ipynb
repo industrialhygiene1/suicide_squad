{
 "cells": [
  {
   "cell_type": "code",
   "execution_count": 12,
   "metadata": {},
   "outputs": [],
   "source": [
    "#Dependencies\n",
    "import requests\n",
    "import json\n",
    "from matplotlib import pyplot as plt\n",
    "from scipy import stats\n",
    "from scipy.stats import linregress\n",
    "import numpy as np\n",
    "import pandas as pd\n",
    "import matplotlib.pyplot as plt"
   ]
  },
  {
   "cell_type": "code",
   "execution_count": 13,
   "metadata": {},
   "outputs": [
    {
     "data": {
      "text/html": [
       "<div>\n",
       "<style scoped>\n",
       "    .dataframe tbody tr th:only-of-type {\n",
       "        vertical-align: middle;\n",
       "    }\n",
       "\n",
       "    .dataframe tbody tr th {\n",
       "        vertical-align: top;\n",
       "    }\n",
       "\n",
       "    .dataframe thead th {\n",
       "        text-align: right;\n",
       "    }\n",
       "</style>\n",
       "<table border=\"1\" class=\"dataframe\">\n",
       "  <thead>\n",
       "    <tr style=\"text-align: right;\">\n",
       "      <th></th>\n",
       "      <th>index</th>\n",
       "      <th>country</th>\n",
       "      <th>year</th>\n",
       "      <th>sex</th>\n",
       "      <th>age</th>\n",
       "      <th>suicides_no</th>\n",
       "      <th>population</th>\n",
       "      <th>suicides/100k pop</th>\n",
       "      <th>country-year</th>\n",
       "      <th>year_gdp</th>\n",
       "      <th>gdp_per_capita</th>\n",
       "      <th>generation</th>\n",
       "    </tr>\n",
       "  </thead>\n",
       "  <tbody>\n",
       "    <tr>\n",
       "      <th>0</th>\n",
       "      <td>0</td>\n",
       "      <td>Albania</td>\n",
       "      <td>1987</td>\n",
       "      <td>male</td>\n",
       "      <td>15-24 years</td>\n",
       "      <td>21</td>\n",
       "      <td>312900</td>\n",
       "      <td>6.71</td>\n",
       "      <td>Albania1987</td>\n",
       "      <td>2.160000e+09</td>\n",
       "      <td>$796.00</td>\n",
       "      <td>Generation X</td>\n",
       "    </tr>\n",
       "    <tr>\n",
       "      <th>1</th>\n",
       "      <td>1</td>\n",
       "      <td>Albania</td>\n",
       "      <td>1987</td>\n",
       "      <td>male</td>\n",
       "      <td>35-54 years</td>\n",
       "      <td>16</td>\n",
       "      <td>308000</td>\n",
       "      <td>5.19</td>\n",
       "      <td>Albania1987</td>\n",
       "      <td>2.160000e+09</td>\n",
       "      <td>$796.00</td>\n",
       "      <td>Silent</td>\n",
       "    </tr>\n",
       "    <tr>\n",
       "      <th>2</th>\n",
       "      <td>2</td>\n",
       "      <td>Albania</td>\n",
       "      <td>1987</td>\n",
       "      <td>female</td>\n",
       "      <td>15-24 years</td>\n",
       "      <td>14</td>\n",
       "      <td>289700</td>\n",
       "      <td>4.83</td>\n",
       "      <td>Albania1987</td>\n",
       "      <td>2.160000e+09</td>\n",
       "      <td>$796.00</td>\n",
       "      <td>Generation X</td>\n",
       "    </tr>\n",
       "    <tr>\n",
       "      <th>3</th>\n",
       "      <td>3</td>\n",
       "      <td>Albania</td>\n",
       "      <td>1987</td>\n",
       "      <td>male</td>\n",
       "      <td>75+ years</td>\n",
       "      <td>1</td>\n",
       "      <td>21800</td>\n",
       "      <td>4.59</td>\n",
       "      <td>Albania1987</td>\n",
       "      <td>2.160000e+09</td>\n",
       "      <td>$796.00</td>\n",
       "      <td>G.I. Generation</td>\n",
       "    </tr>\n",
       "    <tr>\n",
       "      <th>4</th>\n",
       "      <td>4</td>\n",
       "      <td>Albania</td>\n",
       "      <td>1987</td>\n",
       "      <td>male</td>\n",
       "      <td>25-34 years</td>\n",
       "      <td>9</td>\n",
       "      <td>274300</td>\n",
       "      <td>3.28</td>\n",
       "      <td>Albania1987</td>\n",
       "      <td>2.160000e+09</td>\n",
       "      <td>$796.00</td>\n",
       "      <td>Boomers</td>\n",
       "    </tr>\n",
       "  </tbody>\n",
       "</table>\n",
       "</div>"
      ],
      "text/plain": [
       "   index  country  year     sex          age  suicides_no  population  \\\n",
       "0      0  Albania  1987    male  15-24 years           21      312900   \n",
       "1      1  Albania  1987    male  35-54 years           16      308000   \n",
       "2      2  Albania  1987  female  15-24 years           14      289700   \n",
       "3      3  Albania  1987    male    75+ years            1       21800   \n",
       "4      4  Albania  1987    male  25-34 years            9      274300   \n",
       "\n",
       "   suicides/100k pop country-year      year_gdp gdp_per_capita  \\\n",
       "0               6.71  Albania1987  2.160000e+09       $796.00    \n",
       "1               5.19  Albania1987  2.160000e+09       $796.00    \n",
       "2               4.83  Albania1987  2.160000e+09       $796.00    \n",
       "3               4.59  Albania1987  2.160000e+09       $796.00    \n",
       "4               3.28  Albania1987  2.160000e+09       $796.00    \n",
       "\n",
       "        generation  \n",
       "0     Generation X  \n",
       "1           Silent  \n",
       "2     Generation X  \n",
       "3  G.I. Generation  \n",
       "4          Boomers  "
      ]
     },
     "execution_count": 13,
     "metadata": {},
     "output_type": "execute_result"
    }
   ],
   "source": [
    "# The path to our CSV file\n",
    "file_gdp = \"suicides_vs_gdp_o.csv\"\n",
    "\n",
    "# Read Suicide Data our Kickstarter data into pandas\n",
    "su_vs_gdp_o_df = pd.read_csv(file_gdp)\n",
    "su_vs_gdp_o_df.head()"
   ]
  },
  {
   "cell_type": "code",
   "execution_count": 14,
   "metadata": {},
   "outputs": [
    {
     "data": {
      "text/html": [
       "<div>\n",
       "<style scoped>\n",
       "    .dataframe tbody tr th:only-of-type {\n",
       "        vertical-align: middle;\n",
       "    }\n",
       "\n",
       "    .dataframe tbody tr th {\n",
       "        vertical-align: top;\n",
       "    }\n",
       "\n",
       "    .dataframe thead th {\n",
       "        text-align: right;\n",
       "    }\n",
       "</style>\n",
       "<table border=\"1\" class=\"dataframe\">\n",
       "  <thead>\n",
       "    <tr style=\"text-align: right;\">\n",
       "      <th></th>\n",
       "      <th>country-year</th>\n",
       "      <th>country</th>\n",
       "      <th>year</th>\n",
       "      <th>suicides_no</th>\n",
       "      <th>population</th>\n",
       "      <th>suicides/100k pop</th>\n",
       "      <th>year_gdp</th>\n",
       "      <th>gdp_per_capita</th>\n",
       "    </tr>\n",
       "  </thead>\n",
       "  <tbody>\n",
       "    <tr>\n",
       "      <th>0</th>\n",
       "      <td>Albania1987</td>\n",
       "      <td>Albania</td>\n",
       "      <td>1987</td>\n",
       "      <td>73</td>\n",
       "      <td>2709600</td>\n",
       "      <td>31.85</td>\n",
       "      <td>2.160000e+09</td>\n",
       "      <td>$796.00</td>\n",
       "    </tr>\n",
       "    <tr>\n",
       "      <th>1</th>\n",
       "      <td>Albania1988</td>\n",
       "      <td>Albania</td>\n",
       "      <td>1988</td>\n",
       "      <td>63</td>\n",
       "      <td>2764300</td>\n",
       "      <td>32.46</td>\n",
       "      <td>2.130000e+09</td>\n",
       "      <td>$769.00</td>\n",
       "    </tr>\n",
       "    <tr>\n",
       "      <th>2</th>\n",
       "      <td>Albania1989</td>\n",
       "      <td>Albania</td>\n",
       "      <td>1989</td>\n",
       "      <td>68</td>\n",
       "      <td>2803100</td>\n",
       "      <td>33.40</td>\n",
       "      <td>2.340000e+09</td>\n",
       "      <td>$833.00</td>\n",
       "    </tr>\n",
       "    <tr>\n",
       "      <th>3</th>\n",
       "      <td>Albania1992</td>\n",
       "      <td>Albania</td>\n",
       "      <td>1992</td>\n",
       "      <td>47</td>\n",
       "      <td>2822500</td>\n",
       "      <td>18.00</td>\n",
       "      <td>7.090000e+08</td>\n",
       "      <td>$251.00</td>\n",
       "    </tr>\n",
       "    <tr>\n",
       "      <th>4</th>\n",
       "      <td>Albania1993</td>\n",
       "      <td>Albania</td>\n",
       "      <td>1993</td>\n",
       "      <td>73</td>\n",
       "      <td>2807300</td>\n",
       "      <td>32.56</td>\n",
       "      <td>1.230000e+09</td>\n",
       "      <td>$437.00</td>\n",
       "    </tr>\n",
       "  </tbody>\n",
       "</table>\n",
       "</div>"
      ],
      "text/plain": [
       "  country-year  country  year  suicides_no  population  suicides/100k pop  \\\n",
       "0  Albania1987  Albania  1987           73     2709600              31.85   \n",
       "1  Albania1988  Albania  1988           63     2764300              32.46   \n",
       "2  Albania1989  Albania  1989           68     2803100              33.40   \n",
       "3  Albania1992  Albania  1992           47     2822500              18.00   \n",
       "4  Albania1993  Albania  1993           73     2807300              32.56   \n",
       "\n",
       "       year_gdp gdp_per_capita  \n",
       "0  2.160000e+09       $796.00   \n",
       "1  2.130000e+09       $769.00   \n",
       "2  2.340000e+09       $833.00   \n",
       "3  7.090000e+08       $251.00   \n",
       "4  1.230000e+09       $437.00   "
      ]
     },
     "execution_count": 14,
     "metadata": {},
     "output_type": "execute_result"
    }
   ],
   "source": [
    "\n",
    "su_vs_gdp_df = su_vs_gdp_o_df.groupby('country-year').agg({'country':'first', 'year':'first', \n",
    "                                                           'suicides_no':'sum','population':'sum', \n",
    "                                                           'suicides/100k pop':'sum',\n",
    "                                                           'year_gdp':'first',\n",
    "                                                           'gdp_per_capita':'first'}).reset_index()\n",
    "su_vs_gdp_df.head()"
   ]
  },
  {
   "cell_type": "code",
   "execution_count": 15,
   "metadata": {},
   "outputs": [],
   "source": [
    "su_vs_gdp_df.to_csv('cleaned_su_vs_gdp.csv')\n",
    "file_gdp2 = \"cleaned_su_vs_gdp.csv\"\n",
    "su_vs_gdp_c_df = pd.read_csv(file_gdp2)"
   ]
  },
  {
   "cell_type": "code",
   "execution_count": 16,
   "metadata": {},
   "outputs": [
    {
     "data": {
      "text/plain": [
       "<matplotlib.collections.PathCollection at 0x1771e32b9b0>"
      ]
     },
     "execution_count": 16,
     "metadata": {},
     "output_type": "execute_result"
    },
    {
     "data": {
      "image/png": "[encoded data removed]",
      "text/plain": [
       "<Figure size 432x288 with 1 Axes>"
      ]
     },
     "metadata": {
      "needs_background": "light"
     },
     "output_type": "display_data"
    }
   ],
   "source": [
    "x_axis = su_vs_gdp_c_df['year_gdp']\n",
    "y_axis = su_vs_gdp_c_df['suicides/100k pop']\n",
    "plt.grid(True)\n",
    "\n",
    "#plt.savefig(\"Sui_vs_GDP_Scatter.png\")\n",
    "\n",
    "\n",
    "plt.scatter(x_axis, y_axis)"
   ]
  },
  {
   "cell_type": "code",
   "execution_count": 17,
   "metadata": {},
   "outputs": [],
   "source": [
    "(slope, intercept, _, _, _) = linregress(x_axis, y_axis)\n",
    "fit = slope * x_axis + intercept"
   ]
  },
  {
   "cell_type": "code",
   "execution_count": 18,
   "metadata": {},
   "outputs": [
    {
     "data": {
      "image/png": "[encoded data removed]",
      "text/plain": [
       "<Figure size 432x288 with 1 Axes>"
      ]
     },
     "metadata": {
      "needs_background": "light"
     },
     "output_type": "display_data"
    }
   ],
   "source": [
    "fig, ax = plt.subplots()\n",
    "\n",
    "fig.suptitle(\"Suicide Rate vs GDP Regression\", fontsize=16, fontweight=\"bold\")\n",
    "\n",
    "ax.set_xlim(0, 17500000000000)\n",
    "ax.set_ylim(0, 700)\n",
    "\n",
    "ax.set_xlabel(\"GDP (x10 to the 13th Power)\")\n",
    "ax.set_ylabel(\"Suicide Rate per 100K People\")\n",
    "\n",
    "ax.plot(x_axis, y_axis, linewidth=0, marker='o')\n",
    "ax.plot(x_axis, fit, 'r--')\n",
    "plt.grid(True)\n",
    "\n",
    "plt.savefig(\"Sui_vs_GDP_regression.png\")\n",
    "\n",
    "plt.show()"
   ]
  },
  {
   "cell_type": "code",
   "execution_count": 19,
   "metadata": {},
   "outputs": [
    {
     "data": {
      "text/plain": [
       "3.402836006166142e-47"
      ]
     },
     "execution_count": 19,
     "metadata": {},
     "output_type": "execute_result"
    }
   ],
   "source": [
    "(t_stat, p) = stats.ttest_ind(x_axis, y_axis, equal_var=False)\n",
    "p"
   ]
  },
  {
   "cell_type": "code",
   "execution_count": 20,
   "metadata": {},
   "outputs": [
    {
     "data": {
      "text/plain": [
       "14.760431231640396"
      ]
     },
     "execution_count": 20,
     "metadata": {},
     "output_type": "execute_result"
    }
   ],
   "source": [
    "(t_stat, p) = stats.ttest_ind(x_axis, y_axis, equal_var=False)\n",
    "t_stat"
   ]
  },
  {
   "cell_type": "code",
   "execution_count": 21,
   "metadata": {},
   "outputs": [
    {
     "data": {
      "text/html": [
       "<div>\n",
       "<style scoped>\n",
       "    .dataframe tbody tr th:only-of-type {\n",
       "        vertical-align: middle;\n",
       "    }\n",
       "\n",
       "    .dataframe tbody tr th {\n",
       "        vertical-align: top;\n",
       "    }\n",
       "\n",
       "    .dataframe thead th {\n",
       "        text-align: right;\n",
       "    }\n",
       "</style>\n",
       "<table border=\"1\" class=\"dataframe\">\n",
       "  <thead>\n",
       "    <tr style=\"text-align: right;\">\n",
       "      <th></th>\n",
       "      <th>Unnamed: 0</th>\n",
       "      <th>country-year</th>\n",
       "      <th>country</th>\n",
       "      <th>year</th>\n",
       "      <th>suicides_no</th>\n",
       "      <th>population</th>\n",
       "      <th>suicides/100k pop</th>\n",
       "      <th>year_gdp</th>\n",
       "      <th>gdp_per_capita</th>\n",
       "    </tr>\n",
       "  </thead>\n",
       "  <tbody>\n",
       "    <tr>\n",
       "      <th>48</th>\n",
       "      <td>48</td>\n",
       "      <td>Antigua and Barbuda2015</td>\n",
       "      <td>Antigua and Barbuda</td>\n",
       "      <td>2015</td>\n",
       "      <td>1</td>\n",
       "      <td>91889</td>\n",
       "      <td>15.62</td>\n",
       "      <td>1.360000e+09</td>\n",
       "      <td>$14,853.00</td>\n",
       "    </tr>\n",
       "    <tr>\n",
       "      <th>79</th>\n",
       "      <td>79</td>\n",
       "      <td>Argentina2015</td>\n",
       "      <td>Argentina</td>\n",
       "      <td>2015</td>\n",
       "      <td>3073</td>\n",
       "      <td>39699624</td>\n",
       "      <td>112.13</td>\n",
       "      <td>5.950000e+11</td>\n",
       "      <td>$14,981.00</td>\n",
       "    </tr>\n",
       "    <tr>\n",
       "      <th>103</th>\n",
       "      <td>103</td>\n",
       "      <td>Armenia2015</td>\n",
       "      <td>Armenia</td>\n",
       "      <td>2015</td>\n",
       "      <td>74</td>\n",
       "      <td>2795335</td>\n",
       "      <td>45.28</td>\n",
       "      <td>1.060000e+10</td>\n",
       "      <td>$3,775.00</td>\n",
       "    </tr>\n",
       "    <tr>\n",
       "      <th>148</th>\n",
       "      <td>148</td>\n",
       "      <td>Australia2015</td>\n",
       "      <td>Australia</td>\n",
       "      <td>2015</td>\n",
       "      <td>3027</td>\n",
       "      <td>22240785</td>\n",
       "      <td>154.18</td>\n",
       "      <td>1.350000e+12</td>\n",
       "      <td>$60,656.00</td>\n",
       "    </tr>\n",
       "    <tr>\n",
       "      <th>179</th>\n",
       "      <td>179</td>\n",
       "      <td>Austria2015</td>\n",
       "      <td>Austria</td>\n",
       "      <td>2015</td>\n",
       "      <td>1251</td>\n",
       "      <td>8219386</td>\n",
       "      <td>194.62</td>\n",
       "      <td>3.820000e+11</td>\n",
       "      <td>$46,484.00</td>\n",
       "    </tr>\n",
       "  </tbody>\n",
       "</table>\n",
       "</div>"
      ],
      "text/plain": [
       "     Unnamed: 0             country-year              country  year  \\\n",
       "48           48  Antigua and Barbuda2015  Antigua and Barbuda  2015   \n",
       "79           79            Argentina2015            Argentina  2015   \n",
       "103         103              Armenia2015              Armenia  2015   \n",
       "148         148            Australia2015            Australia  2015   \n",
       "179         179              Austria2015              Austria  2015   \n",
       "\n",
       "     suicides_no  population  suicides/100k pop      year_gdp gdp_per_capita  \n",
       "48             1       91889              15.62  1.360000e+09    $14,853.00   \n",
       "79          3073    39699624             112.13  5.950000e+11    $14,981.00   \n",
       "103           74     2795335              45.28  1.060000e+10     $3,775.00   \n",
       "148         3027    22240785             154.18  1.350000e+12    $60,656.00   \n",
       "179         1251     8219386             194.62  3.820000e+11    $46,484.00   "
      ]
     },
     "execution_count": 21,
     "metadata": {},
     "output_type": "execute_result"
    }
   ],
   "source": [
    "su_vs_gdp_2015_df = su_vs_gdp_c_df.query(\"year == '2015'\")\n",
    "su_vs_gdp_2015_nous_df = su_vs_gdp_2015_df.query(\"country != 'United States'\")\n",
    "su_vs_gdp_2015_nous_df.head()"
   ]
  },
  {
   "cell_type": "code",
   "execution_count": 22,
   "metadata": {},
   "outputs": [
    {
     "data": {
      "text/plain": [
       "<matplotlib.collections.PathCollection at 0x1771e052828>"
      ]
     },
     "execution_count": 22,
     "metadata": {},
     "output_type": "execute_result"
    },
    {
     "data": {
      "image/png": "[encoded data removed]",
      "text/plain": [
       "<Figure size 432x288 with 1 Axes>"
      ]
     },
     "metadata": {
      "needs_background": "light"
     },
     "output_type": "display_data"
    }
   ],
   "source": [
    "x_axis_2015 = su_vs_gdp_2015_nous_df['year_gdp']\n",
    "y_axis_2015 = su_vs_gdp_2015_nous_df['suicides/100k pop']\n",
    "\n",
    "plt.grid(True)\n",
    "\n",
    "#plt.savefig(\"Sui_vs_GDP_Scatter_2015.png\")\n",
    "\n",
    "plt.scatter(x_axis_2015, y_axis_2015)"
   ]
  },
  {
   "cell_type": "code",
   "execution_count": 23,
   "metadata": {},
   "outputs": [],
   "source": [
    "(slope, intercept, _, _, _) = linregress(x_axis_2015, y_axis_2015)\n",
    "fit = slope * x_axis_2015 + intercept"
   ]
  },
  {
   "cell_type": "code",
   "execution_count": 24,
   "metadata": {},
   "outputs": [
    {
     "data": {
      "image/png": "[encoded data removed]",
      "text/plain": [
       "<Figure size 432x288 with 1 Axes>"
      ]
     },
     "metadata": {
      "needs_background": "light"
     },
     "output_type": "display_data"
    },
    {
     "data": {
      "text/plain": [
       "2.501178306126408e-05"
      ]
     },
     "execution_count": 24,
     "metadata": {},
     "output_type": "execute_result"
    }
   ],
   "source": [
    "fig, ax_2015 = plt.subplots()\n",
    "\n",
    "fig.suptitle(\"Suicide Rate vs GDP Regression 2015\", fontsize=16, fontweight=\"bold\")\n",
    "\n",
    "ax_2015.set_xlim(0, 4500000000000)\n",
    "ax_2015.set_ylim(0, 700)\n",
    "\n",
    "ax_2015.set_xlabel(\"GDP (x10 to the 13th Power)\")\n",
    "ax_2015.set_ylabel(\"Suicide Rate per 100K People\")\n",
    "\n",
    "ax_2015.plot(x_axis_2015, y_axis_2015, linewidth=0, marker='o')\n",
    "ax_2015.plot(x_axis_2015, fit, 'r--')\n",
    "plt.grid(True)\n",
    "\n",
    "plt.savefig(\"Regression_2015.png\")\n",
    "\n",
    "plt.show()\n",
    "(t_stat, p) = stats.ttest_ind(x_axis_2015, y_axis_2015, equal_var=False)\n",
    "p"
   ]
  },
  {
   "cell_type": "code",
   "execution_count": 25,
   "metadata": {},
   "outputs": [
    {
     "data": {
      "text/plain": [
       "4.568169046616642"
      ]
     },
     "execution_count": 25,
     "metadata": {},
     "output_type": "execute_result"
    }
   ],
   "source": [
    "(t_stat, p) = stats.ttest_ind(x_axis_2015, y_axis_2015, equal_var=False)\n",
    "t_stat"
   ]
  },
  {
   "cell_type": "code",
   "execution_count": null,
   "metadata": {},
   "outputs": [],
   "source": []
  },
  {
   "cell_type": "code",
   "execution_count": 26,
   "metadata": {},
   "outputs": [
    {
     "data": {
      "text/html": [
       "<div>\n",
       "<style scoped>\n",
       "    .dataframe tbody tr th:only-of-type {\n",
       "        vertical-align: middle;\n",
       "    }\n",
       "\n",
       "    .dataframe tbody tr th {\n",
       "        vertical-align: top;\n",
       "    }\n",
       "\n",
       "    .dataframe thead th {\n",
       "        text-align: right;\n",
       "    }\n",
       "</style>\n",
       "<table border=\"1\" class=\"dataframe\">\n",
       "  <thead>\n",
       "    <tr style=\"text-align: right;\">\n",
       "      <th></th>\n",
       "      <th>Unnamed: 0</th>\n",
       "      <th>country-year</th>\n",
       "      <th>country</th>\n",
       "      <th>year</th>\n",
       "      <th>suicides_no</th>\n",
       "      <th>population</th>\n",
       "      <th>suicides/100k pop</th>\n",
       "      <th>year_gdp</th>\n",
       "      <th>gdp_per_capita</th>\n",
       "    </tr>\n",
       "  </thead>\n",
       "  <tbody>\n",
       "    <tr>\n",
       "      <th>16</th>\n",
       "      <td>16</td>\n",
       "      <td>Albania2005</td>\n",
       "      <td>Albania</td>\n",
       "      <td>2005</td>\n",
       "      <td>0</td>\n",
       "      <td>2783320</td>\n",
       "      <td>0.00</td>\n",
       "      <td>8.160000e+09</td>\n",
       "      <td>$2,931.00</td>\n",
       "    </tr>\n",
       "    <tr>\n",
       "      <th>40</th>\n",
       "      <td>40</td>\n",
       "      <td>Antigua and Barbuda2005</td>\n",
       "      <td>Antigua and Barbuda</td>\n",
       "      <td>2005</td>\n",
       "      <td>0</td>\n",
       "      <td>80809</td>\n",
       "      <td>0.00</td>\n",
       "      <td>1.020000e+09</td>\n",
       "      <td>$12,649.00</td>\n",
       "    </tr>\n",
       "    <tr>\n",
       "      <th>69</th>\n",
       "      <td>69</td>\n",
       "      <td>Argentina2005</td>\n",
       "      <td>Argentina</td>\n",
       "      <td>2005</td>\n",
       "      <td>3058</td>\n",
       "      <td>35550617</td>\n",
       "      <td>128.18</td>\n",
       "      <td>1.990000e+11</td>\n",
       "      <td>$5,590.00</td>\n",
       "    </tr>\n",
       "    <tr>\n",
       "      <th>112</th>\n",
       "      <td>112</td>\n",
       "      <td>Aruba2005</td>\n",
       "      <td>Aruba</td>\n",
       "      <td>2005</td>\n",
       "      <td>10</td>\n",
       "      <td>93728</td>\n",
       "      <td>99.58</td>\n",
       "      <td>2.330000e+09</td>\n",
       "      <td>$24,870.00</td>\n",
       "    </tr>\n",
       "    <tr>\n",
       "      <th>169</th>\n",
       "      <td>169</td>\n",
       "      <td>Austria2005</td>\n",
       "      <td>Austria</td>\n",
       "      <td>2005</td>\n",
       "      <td>1399</td>\n",
       "      <td>7827461</td>\n",
       "      <td>235.25</td>\n",
       "      <td>3.160000e+11</td>\n",
       "      <td>$40,367.00</td>\n",
       "    </tr>\n",
       "  </tbody>\n",
       "</table>\n",
       "</div>"
      ],
      "text/plain": [
       "     Unnamed: 0             country-year              country  year  \\\n",
       "16           16              Albania2005              Albania  2005   \n",
       "40           40  Antigua and Barbuda2005  Antigua and Barbuda  2005   \n",
       "69           69            Argentina2005            Argentina  2005   \n",
       "112         112                Aruba2005                Aruba  2005   \n",
       "169         169              Austria2005              Austria  2005   \n",
       "\n",
       "     suicides_no  population  suicides/100k pop      year_gdp gdp_per_capita  \n",
       "16             0     2783320               0.00  8.160000e+09     $2,931.00   \n",
       "40             0       80809               0.00  1.020000e+09    $12,649.00   \n",
       "69          3058    35550617             128.18  1.990000e+11     $5,590.00   \n",
       "112           10       93728              99.58  2.330000e+09    $24,870.00   \n",
       "169         1399     7827461             235.25  3.160000e+11    $40,367.00   "
      ]
     },
     "execution_count": 26,
     "metadata": {},
     "output_type": "execute_result"
    }
   ],
   "source": [
    "su_vs_gdp_2005_df = su_vs_gdp_c_df.query(\"year == '2005'\")\n",
    "su_vs_gdp_2005_nous_df = su_vs_gdp_2005_df.query(\"country != 'United States'\")\n",
    "su_vs_gdp_2005_nous_df.head()"
   ]
  },
  {
   "cell_type": "code",
   "execution_count": 27,
   "metadata": {},
   "outputs": [
    {
     "data": {
      "text/plain": [
       "<matplotlib.collections.PathCollection at 0x1771e134198>"
      ]
     },
     "execution_count": 27,
     "metadata": {},
     "output_type": "execute_result"
    },
    {
     "data": {
      "image/png": "[encoded data removed]",
      "text/plain": [
       "<Figure size 432x288 with 1 Axes>"
      ]
     },
     "metadata": {
      "needs_background": "light"
     },
     "output_type": "display_data"
    }
   ],
   "source": [
    "x_axis_2005 = su_vs_gdp_2005_nous_df['year_gdp']\n",
    "y_axis_2005 = su_vs_gdp_2005_nous_df['suicides/100k pop']\n",
    "\n",
    "plt.grid(True)\n",
    "\n",
    "#plt.savefig(\"Sui_vs_GDP_Scatter_2005.png\")\n",
    "\n",
    "plt.scatter(x_axis_2005, y_axis_2005)"
   ]
  },
  {
   "cell_type": "code",
   "execution_count": 28,
   "metadata": {},
   "outputs": [],
   "source": [
    "(slope, intercept, _, _, _) = linregress(x_axis_2005, y_axis_2005)\n",
    "fit = slope * x_axis_2005 + intercept"
   ]
  },
  {
   "cell_type": "code",
   "execution_count": 29,
   "metadata": {},
   "outputs": [
    {
     "data": {
      "image/png": "[encoded data removed]",
      "text/plain": [
       "<Figure size 432x288 with 1 Axes>"
      ]
     },
     "metadata": {
      "needs_background": "light"
     },
     "output_type": "display_data"
    },
    {
     "data": {
      "text/plain": [
       "0.00016372935198783524"
      ]
     },
     "execution_count": 29,
     "metadata": {},
     "output_type": "execute_result"
    }
   ],
   "source": [
    "fig, ax_2005 = plt.subplots()\n",
    "\n",
    "fig.suptitle(\"Suicide Rate vs GDP Regression 2005\", fontsize=16, fontweight=\"bold\")\n",
    "\n",
    "ax_2005.set_xlim(0, 4500000000000)\n",
    "ax_2005.set_ylim(0, 700)\n",
    "\n",
    "ax_2005.set_xlabel(\"GDP (x10 to the 13th Power)\")\n",
    "ax_2005.set_ylabel(\"Suicide Rate per 100K People\")\n",
    "\n",
    "ax_2005.plot(x_axis_2005, y_axis_2005, linewidth=0, marker='o')\n",
    "ax_2005.plot(x_axis_2005, fit, 'r--')\n",
    "plt.grid(True)\n",
    "\n",
    "plt.savefig(\"Regression_2005.png\")\n",
    "\n",
    "plt.show()\n",
    "(t_stat, p) = stats.ttest_ind(x_axis_2005, y_axis_2005, equal_var=False)\n",
    "p"
   ]
  },
  {
   "cell_type": "code",
   "execution_count": 30,
   "metadata": {},
   "outputs": [
    {
     "data": {
      "text/plain": [
       "3.9514910303009563"
      ]
     },
     "execution_count": 30,
     "metadata": {},
     "output_type": "execute_result"
    }
   ],
   "source": [
    "(t_stat, p) = stats.ttest_ind(x_axis_2005, y_axis_2005, equal_var=False)\n",
    "t_stat"
   ]
  },
  {
   "cell_type": "code",
   "execution_count": 36,
   "metadata": {},
   "outputs": [
    {
     "name": "stdout",
     "output_type": "stream",
     "text": [
      "T-Test : 3.9514910303009563\n",
      "P-Value : 0.00016372935198783524\n"
     ]
    }
   ],
   "source": [
    "print(\"T-Test :\", (t_stat))\n",
    "print(\"P-Value :\",(p))"
   ]
  },
  {
   "cell_type": "code",
   "execution_count": null,
   "metadata": {},
   "outputs": [],
   "source": []
  }
 ],
 "metadata": {
  "kernelspec": {
   "display_name": "Python 3",
   "language": "python",
   "name": "python3"
  },
  "language_info": {
   "codemirror_mode": {
    "name": "ipython",
    "version": 3
   },
   "file_extension": ".py",
   "mimetype": "text/x-python",
   "name": "python",
   "nbconvert_exporter": "python",
   "pygments_lexer": "ipython3",
   "version": "3.7.1"
  }
 },
 "nbformat": 4,
 "nbformat_minor": 2
}
