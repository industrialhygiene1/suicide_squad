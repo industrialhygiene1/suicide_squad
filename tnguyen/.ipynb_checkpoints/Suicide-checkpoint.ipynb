{
 "cells": [
  {
   "cell_type": "code",
   "execution_count": 3,
   "metadata": {},
   "outputs": [],
   "source": [
    "#Dependencies\n",
    "\n",
    "import requests\n",
    "import json\n",
    "from matplotlib import pyplot as plt\n",
    "from scipy.stats import linregress\n",
    "import numpy as np\n",
    "import pandas as pd\n",
    "import matplotlib.pyplot as plt\n"
   ]
  },
  {
   "cell_type": "code",
   "execution_count": 4,
   "metadata": {},
   "outputs": [
    {
     "data": {
      "text/html": [
       "<div>\n",
       "<style scoped>\n",
       "    .dataframe tbody tr th:only-of-type {\n",
       "        vertical-align: middle;\n",
       "    }\n",
       "\n",
       "    .dataframe tbody tr th {\n",
       "        vertical-align: top;\n",
       "    }\n",
       "\n",
       "    .dataframe thead th {\n",
       "        text-align: right;\n",
       "    }\n",
       "</style>\n",
       "<table border=\"1\" class=\"dataframe\">\n",
       "  <thead>\n",
       "    <tr style=\"text-align: right;\">\n",
       "      <th></th>\n",
       "      <th>Entity</th>\n",
       "      <th>Code</th>\n",
       "      <th>Year</th>\n",
       "      <th>All ages (per 100,000)</th>\n",
       "      <th>70+ years old (per 100,000)</th>\n",
       "      <th>50-69 years old (per 100,000)</th>\n",
       "      <th>15-49 years old (per 100,000)</th>\n",
       "      <th>5-14 years old (per 100,000)</th>\n",
       "      <th>Age-standardized (per 100,000)</th>\n",
       "    </tr>\n",
       "  </thead>\n",
       "  <tbody>\n",
       "    <tr>\n",
       "      <th>0</th>\n",
       "      <td>Afghanistan</td>\n",
       "      <td>AFG</td>\n",
       "      <td>1990</td>\n",
       "      <td>5.895373</td>\n",
       "      <td>18.010179</td>\n",
       "      <td>8.941423</td>\n",
       "      <td>11.099777</td>\n",
       "      <td>0.410967</td>\n",
       "      <td>9.210877</td>\n",
       "    </tr>\n",
       "    <tr>\n",
       "      <th>1</th>\n",
       "      <td>Afghanistan</td>\n",
       "      <td>AFG</td>\n",
       "      <td>1991</td>\n",
       "      <td>6.011665</td>\n",
       "      <td>18.072845</td>\n",
       "      <td>9.158262</td>\n",
       "      <td>11.214831</td>\n",
       "      <td>0.414742</td>\n",
       "      <td>9.344000</td>\n",
       "    </tr>\n",
       "    <tr>\n",
       "      <th>2</th>\n",
       "      <td>Afghanistan</td>\n",
       "      <td>AFG</td>\n",
       "      <td>1992</td>\n",
       "      <td>6.130514</td>\n",
       "      <td>17.993764</td>\n",
       "      <td>9.364500</td>\n",
       "      <td>11.330904</td>\n",
       "      <td>0.418220</td>\n",
       "      <td>9.469053</td>\n",
       "    </tr>\n",
       "    <tr>\n",
       "      <th>3</th>\n",
       "      <td>Afghanistan</td>\n",
       "      <td>AFG</td>\n",
       "      <td>1993</td>\n",
       "      <td>6.244526</td>\n",
       "      <td>18.095485</td>\n",
       "      <td>9.550515</td>\n",
       "      <td>11.444176</td>\n",
       "      <td>0.423134</td>\n",
       "      <td>9.581032</td>\n",
       "    </tr>\n",
       "    <tr>\n",
       "      <th>4</th>\n",
       "      <td>Afghanistan</td>\n",
       "      <td>AFG</td>\n",
       "      <td>1994</td>\n",
       "      <td>6.402756</td>\n",
       "      <td>18.294775</td>\n",
       "      <td>9.807171</td>\n",
       "      <td>11.668494</td>\n",
       "      <td>0.432550</td>\n",
       "      <td>9.778655</td>\n",
       "    </tr>\n",
       "  </tbody>\n",
       "</table>\n",
       "</div>"
      ],
      "text/plain": [
       "        Entity Code  Year  All ages (per 100,000)  \\\n",
       "0  Afghanistan  AFG  1990                5.895373   \n",
       "1  Afghanistan  AFG  1991                6.011665   \n",
       "2  Afghanistan  AFG  1992                6.130514   \n",
       "3  Afghanistan  AFG  1993                6.244526   \n",
       "4  Afghanistan  AFG  1994                6.402756   \n",
       "\n",
       "   70+ years old (per 100,000)  50-69 years old (per 100,000)  \\\n",
       "0                    18.010179                       8.941423   \n",
       "1                    18.072845                       9.158262   \n",
       "2                    17.993764                       9.364500   \n",
       "3                    18.095485                       9.550515   \n",
       "4                    18.294775                       9.807171   \n",
       "\n",
       "   15-49 years old (per 100,000)  5-14 years old (per 100,000)  \\\n",
       "0                      11.099777                      0.410967   \n",
       "1                      11.214831                      0.414742   \n",
       "2                      11.330904                      0.418220   \n",
       "3                      11.444176                      0.423134   \n",
       "4                      11.668494                      0.432550   \n",
       "\n",
       "   Age-standardized (per 100,000)  \n",
       "0                        9.210877  \n",
       "1                        9.344000  \n",
       "2                        9.469053  \n",
       "3                        9.581032  \n",
       "4                        9.778655  "
      ]
     },
     "execution_count": 4,
     "metadata": {},
     "output_type": "execute_result"
    }
   ],
   "source": [
    "# The path to our CSV file\n",
    "file_gdp = \"-rate-by-age.csv\"\n",
    "\n",
    "# Read Suicide Data our Kickstarter data into pandas\n",
    "df = pd.read_csv(file)\n",
    "df.head()"
   ]
  },
  {
   "cell_type": "code",
   "execution_count": 5,
   "metadata": {},
   "outputs": [
    {
     "ename": "NameError",
     "evalue": "name 'Entity' is not defined",
     "output_type": "error",
     "traceback": [
      "\u001b[1;31m---------------------------------------------------------------------------\u001b[0m",
      "\u001b[1;31mNameError\u001b[0m                                 Traceback (most recent call last)",
      "\u001b[1;32m<ipython-input-5-311b077157cc>\u001b[0m in \u001b[0;36m<module>\u001b[1;34m\u001b[0m\n\u001b[1;32m----> 1\u001b[1;33m \u001b[0mx_axis\u001b[0m \u001b[1;33m=\u001b[0m \u001b[0mnp\u001b[0m\u001b[1;33m.\u001b[0m\u001b[0marange\u001b[0m\u001b[1;33m(\u001b[0m\u001b[0mlen\u001b[0m\u001b[1;33m(\u001b[0m\u001b[0mEntity\u001b[0m\u001b[1;33m)\u001b[0m\u001b[1;33m)\u001b[0m\u001b[1;33m\u001b[0m\u001b[1;33m\u001b[0m\u001b[0m\n\u001b[0m",
      "\u001b[1;31mNameError\u001b[0m: name 'Entity' is not defined"
     ]
    }
   ],
   "source": [
    "x_axis = np.arange(len(Entity))"
   ]
  },
  {
   "cell_type": "code",
   "execution_count": null,
   "metadata": {},
   "outputs": [],
   "source": []
  }
 ],
 "metadata": {
  "kernelspec": {
   "display_name": "Python 3",
   "language": "python",
   "name": "python3"
  },
  "language_info": {
   "codemirror_mode": {
    "name": "ipython",
    "version": 3
   },
   "file_extension": ".py",
   "mimetype": "text/x-python",
   "name": "python",
   "nbconvert_exporter": "python",
   "pygments_lexer": "ipython3",
   "version": "3.7.1"
  }
 },
 "nbformat": 4,
 "nbformat_minor": 2
}
