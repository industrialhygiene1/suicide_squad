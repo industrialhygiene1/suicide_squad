{
 "cells": [
  {
   "cell_type": "code",
   "execution_count": 186,
   "metadata": {},
   "outputs": [],
   "source": [
    "#Dependencies\n",
    "\n",
    "import requests\n",
    "import json\n",
    "from matplotlib import pyplot as plt\n",
    "from scipy.stats import linregress\n",
    "import numpy as np\n",
    "import pandas as pd\n",
    "import matplotlib.pyplot as plt"
   ]
  },
  {
   "cell_type": "code",
   "execution_count": 187,
   "metadata": {},
   "outputs": [
    {
     "data": {
      "text/plain": [
       "Index(['index', 'country', 'year', 'sex', 'age', 'suicides_no', 'population',\n",
       "       'suicides/100k pop', 'country-year', 'year_gdp', 'gdp_per_capita',\n",
       "       'generation'],\n",
       "      dtype='object')"
      ]
     },
     "execution_count": 187,
     "metadata": {},
     "output_type": "execute_result"
    }
   ],
   "source": [
    "# The path to our CSV file\n",
    "#(name the file we are going to read as \"file_gdp\")\n",
    "file_gdp = \"suicides_vs_gdp_o.csv\"\n",
    "\n",
    "# Read Suicide Data our Kickstarter data into pandas \n",
    "#rename it as a dataframe(df) for ease of readibiity\n",
    "su_vs_gdp_o_df = pd.read_csv(file_gdp)\n",
    "\n",
    "# Display all columns \n",
    "su_vs_gdp_o_df.columns\n",
    "\n"
   ]
  },
  {
   "cell_type": "code",
   "execution_count": 188,
   "metadata": {},
   "outputs": [],
   "source": [
    "# Display information of the df\n",
    "#su_vs_gdp_o_df.info()"
   ]
  },
  {
   "cell_type": "code",
   "execution_count": 189,
   "metadata": {},
   "outputs": [],
   "source": [
    "# Group using 'country-year' column and using the aggregate command to define/combine data to respective column.\n",
    "# for ease of readibility(also we are ommitting columns we do not need)\n",
    "su_vs_gdp_df = su_vs_gdp_o_df.groupby('country-year').agg({'country':'first', 'year':'first', \n",
    "                                                           'suicides_no':'sum','population':'sum', \n",
    "                                                           'suicides/100k pop':'sum',\n",
    "                                                           'year_gdp':'first',\n",
    "                                                           'gdp_per_capita':'first'}).reset_index()\n",
    "\n"
   ]
  },
  {
   "cell_type": "code",
   "execution_count": 190,
   "metadata": {},
   "outputs": [
    {
     "data": {
      "text/html": [
       "<div>\n",
       "<style scoped>\n",
       "    .dataframe tbody tr th:only-of-type {\n",
       "        vertical-align: middle;\n",
       "    }\n",
       "\n",
       "    .dataframe tbody tr th {\n",
       "        vertical-align: top;\n",
       "    }\n",
       "\n",
       "    .dataframe thead th {\n",
       "        text-align: right;\n",
       "    }\n",
       "</style>\n",
       "<table border=\"1\" class=\"dataframe\">\n",
       "  <thead>\n",
       "    <tr style=\"text-align: right;\">\n",
       "      <th></th>\n",
       "      <th>Unnamed: 0</th>\n",
       "      <th>country-year</th>\n",
       "      <th>country</th>\n",
       "      <th>year</th>\n",
       "      <th>suicides_no</th>\n",
       "      <th>population</th>\n",
       "      <th>suicides/100k pop</th>\n",
       "      <th>year_gdp</th>\n",
       "      <th>gdp_per_capita</th>\n",
       "    </tr>\n",
       "  </thead>\n",
       "  <tbody>\n",
       "    <tr>\n",
       "      <th>0</th>\n",
       "      <td>0</td>\n",
       "      <td>Albania1987</td>\n",
       "      <td>Albania</td>\n",
       "      <td>1987</td>\n",
       "      <td>73</td>\n",
       "      <td>2709600</td>\n",
       "      <td>31.85</td>\n",
       "      <td>2.160000e+09</td>\n",
       "      <td>$796.00</td>\n",
       "    </tr>\n",
       "    <tr>\n",
       "      <th>1</th>\n",
       "      <td>1</td>\n",
       "      <td>Albania1988</td>\n",
       "      <td>Albania</td>\n",
       "      <td>1988</td>\n",
       "      <td>63</td>\n",
       "      <td>2764300</td>\n",
       "      <td>32.46</td>\n",
       "      <td>2.130000e+09</td>\n",
       "      <td>$769.00</td>\n",
       "    </tr>\n",
       "    <tr>\n",
       "      <th>2</th>\n",
       "      <td>2</td>\n",
       "      <td>Albania1989</td>\n",
       "      <td>Albania</td>\n",
       "      <td>1989</td>\n",
       "      <td>68</td>\n",
       "      <td>2803100</td>\n",
       "      <td>33.40</td>\n",
       "      <td>2.340000e+09</td>\n",
       "      <td>$833.00</td>\n",
       "    </tr>\n",
       "    <tr>\n",
       "      <th>3</th>\n",
       "      <td>3</td>\n",
       "      <td>Albania1992</td>\n",
       "      <td>Albania</td>\n",
       "      <td>1992</td>\n",
       "      <td>47</td>\n",
       "      <td>2822500</td>\n",
       "      <td>18.00</td>\n",
       "      <td>7.090000e+08</td>\n",
       "      <td>$251.00</td>\n",
       "    </tr>\n",
       "    <tr>\n",
       "      <th>4</th>\n",
       "      <td>4</td>\n",
       "      <td>Albania1993</td>\n",
       "      <td>Albania</td>\n",
       "      <td>1993</td>\n",
       "      <td>73</td>\n",
       "      <td>2807300</td>\n",
       "      <td>32.56</td>\n",
       "      <td>1.230000e+09</td>\n",
       "      <td>$437.00</td>\n",
       "    </tr>\n",
       "  </tbody>\n",
       "</table>\n",
       "</div>"
      ],
      "text/plain": [
       "   Unnamed: 0 country-year  country  year  suicides_no  population  \\\n",
       "0           0  Albania1987  Albania  1987           73     2709600   \n",
       "1           1  Albania1988  Albania  1988           63     2764300   \n",
       "2           2  Albania1989  Albania  1989           68     2803100   \n",
       "3           3  Albania1992  Albania  1992           47     2822500   \n",
       "4           4  Albania1993  Albania  1993           73     2807300   \n",
       "\n",
       "   suicides/100k pop      year_gdp gdp_per_capita  \n",
       "0              31.85  2.160000e+09       $796.00   \n",
       "1              32.46  2.130000e+09       $769.00   \n",
       "2              33.40  2.340000e+09       $833.00   \n",
       "3              18.00  7.090000e+08       $251.00   \n",
       "4              32.56  1.230000e+09       $437.00   "
      ]
     },
     "execution_count": 190,
     "metadata": {},
     "output_type": "execute_result"
    }
   ],
   "source": [
    "# Read/Create new df(all years, all suicide rates)\n",
    "clean = \"cleaned_su_vs_gdp.csv\"\n",
    "\n",
    "su_vs_gdp_c_df = pd.read_csv(clean)\n",
    "su_vs_gdp_c_df.head()"
   ]
  },
  {
   "cell_type": "code",
   "execution_count": 191,
   "metadata": {},
   "outputs": [
    {
     "data": {
      "text/html": [
       "<div>\n",
       "<style scoped>\n",
       "    .dataframe tbody tr th:only-of-type {\n",
       "        vertical-align: middle;\n",
       "    }\n",
       "\n",
       "    .dataframe tbody tr th {\n",
       "        vertical-align: top;\n",
       "    }\n",
       "\n",
       "    .dataframe thead th {\n",
       "        text-align: right;\n",
       "    }\n",
       "</style>\n",
       "<table border=\"1\" class=\"dataframe\">\n",
       "  <thead>\n",
       "    <tr style=\"text-align: right;\">\n",
       "      <th></th>\n",
       "      <th>country-year</th>\n",
       "      <th>country</th>\n",
       "      <th>year</th>\n",
       "      <th>suicides_no</th>\n",
       "      <th>population</th>\n",
       "      <th>suicides/100k pop</th>\n",
       "      <th>year_gdp</th>\n",
       "      <th>gdp_per_capita</th>\n",
       "    </tr>\n",
       "  </thead>\n",
       "  <tbody>\n",
       "    <tr>\n",
       "      <th>2260</th>\n",
       "      <td>United States2005</td>\n",
       "      <td>United States</td>\n",
       "      <td>2005</td>\n",
       "      <td>32629</td>\n",
       "      <td>276106680</td>\n",
       "      <td>146.68</td>\n",
       "      <td>1.310000e+13</td>\n",
       "      <td>$47,423.00</td>\n",
       "    </tr>\n",
       "    <tr>\n",
       "      <th>1135</th>\n",
       "      <td>Japan2005</td>\n",
       "      <td>Japan</td>\n",
       "      <td>2005</td>\n",
       "      <td>30369</td>\n",
       "      <td>120657507</td>\n",
       "      <td>266.89</td>\n",
       "      <td>4.760000e+12</td>\n",
       "      <td>$39,412.00</td>\n",
       "    </tr>\n",
       "    <tr>\n",
       "      <th>825</th>\n",
       "      <td>Germany2005</td>\n",
       "      <td>Germany</td>\n",
       "      <td>2005</td>\n",
       "      <td>10270</td>\n",
       "      <td>78851254</td>\n",
       "      <td>161.49</td>\n",
       "      <td>2.860000e+12</td>\n",
       "      <td>$36,289.00</td>\n",
       "    </tr>\n",
       "    <tr>\n",
       "      <th>2229</th>\n",
       "      <td>United Kingdom2005</td>\n",
       "      <td>United Kingdom</td>\n",
       "      <td>2005</td>\n",
       "      <td>4047</td>\n",
       "      <td>56809024</td>\n",
       "      <td>79.16</td>\n",
       "      <td>2.520000e+12</td>\n",
       "      <td>$44,372.00</td>\n",
       "    </tr>\n",
       "    <tr>\n",
       "      <th>778</th>\n",
       "      <td>France2005</td>\n",
       "      <td>France</td>\n",
       "      <td>2005</td>\n",
       "      <td>10713</td>\n",
       "      <td>57160687</td>\n",
       "      <td>232.09</td>\n",
       "      <td>2.200000e+12</td>\n",
       "      <td>$38,420.00</td>\n",
       "    </tr>\n",
       "    <tr>\n",
       "      <th>1087</th>\n",
       "      <td>Italy2005</td>\n",
       "      <td>Italy</td>\n",
       "      <td>2005</td>\n",
       "      <td>3742</td>\n",
       "      <td>55244690</td>\n",
       "      <td>82.59</td>\n",
       "      <td>1.850000e+12</td>\n",
       "      <td>$33,536.00</td>\n",
       "    </tr>\n",
       "  </tbody>\n",
       "</table>\n",
       "</div>"
      ],
      "text/plain": [
       "            country-year         country  year  suicides_no  population  \\\n",
       "2260   United States2005   United States  2005        32629   276106680   \n",
       "1135           Japan2005           Japan  2005        30369   120657507   \n",
       "825          Germany2005         Germany  2005        10270    78851254   \n",
       "2229  United Kingdom2005  United Kingdom  2005         4047    56809024   \n",
       "778           France2005          France  2005        10713    57160687   \n",
       "1087           Italy2005           Italy  2005         3742    55244690   \n",
       "\n",
       "      suicides/100k pop      year_gdp gdp_per_capita  \n",
       "2260             146.68  1.310000e+13    $47,423.00   \n",
       "1135             266.89  4.760000e+12    $39,412.00   \n",
       "825              161.49  2.860000e+12    $36,289.00   \n",
       "2229              79.16  2.520000e+12    $44,372.00   \n",
       "778              232.09  2.200000e+12    $38,420.00   \n",
       "1087              82.59  1.850000e+12    $33,536.00   "
      ]
     },
     "execution_count": 191,
     "metadata": {},
     "output_type": "execute_result"
    }
   ],
   "source": [
    "# It is possible to sort based upon multiple columns\n",
    "# here we are sorting by highest gdp\n",
    "sort_gdp_df = su_vs_gdp_df.sort_values([\"year_gdp\"], ascending=False)\n",
    "\n",
    "# Filter the data so that only those in 2005 are in a DataFrame and save as new dataframe(df)\n",
    "gdp_2005_df = sort_gdp_df.query(\"year == '2005'\")\n",
    "\n",
    "                                \n",
    "# Us_2005 = gdp_2005_df.loc[gdp_2005_df['country']=='United States']\n",
    "# Japan_2005 = gdp_2005_df.loc[gdp_2005_df['country']=='Japan']\n",
    "# Germany_2005 = gdp_2005_df.loc[gdp_2005_df['country']=='Germany']\n",
    "# United_Kingdom_2005 = gdp_2005_df.loc[gdp_2005_df['country']=='United Kingdom']\n",
    "# Italy_2005 = gdp_2005_df.loc[gdp_2005_df['country']=='Italy']\n",
    "# Brazil_2005 = gdp_2005_df.loc[gdp_2005_df['country']=='Brazil']\n",
    "\n",
    "#Create new dataframe(df) to hold top x countries with highest year_gdp\n",
    "gdp_2005_df = gdp_2005_df\n",
    "gdp_2005_df.head(6)\n",
    "\n",
    "# Create an array that contains the number of users each language has\n",
    "country2005= gdp_2005_df.head(6)['country']\n",
    "suicides2005=gdp_2005_df.head(6)['suicides/100k pop']\n",
    "gdp_2005_df_top_6= gdp_2005_df.head(6)\n",
    "\n",
    "gdp_2005_df_top_6"
   ]
  },
  {
   "cell_type": "code",
   "execution_count": 192,
   "metadata": {},
   "outputs": [
    {
     "data": {
      "image/png": "[encoded data removed]",
      "text/plain": [
       "<Figure size 720x504 with 1 Axes>"
      ]
     },
     "metadata": {
      "needs_background": "light"
     },
     "output_type": "display_data"
    }
   ],
   "source": [
    "# It is possible to sort based upon multiple columns\n",
    "# here we are sorting by highest gdp\n",
    "sort_gdp_df = su_vs_gdp_df.sort_values([\"year_gdp\"], ascending=False)\n",
    "\n",
    "# Filter the data so that only those in 2015 are in a DataFrame and save as new dataframe(df)\n",
    "gdp_2005_df = sort_gdp_df.query(\"year == '2005'\")\n",
    "gdp_2005_df.head(6)\n",
    "\n",
    "#Create new dataframe(df) to hold top x countries with highest year_gdp\n",
    "gdp_2005_df_top_6 = gdp_2005_df.head(6)\n",
    "gdp_2005_df_top_6\n",
    "\n",
    "\n",
    "# Create an array that contains the number of users each language has\n",
    "country2= gdp_2005_df_top_6['country']\n",
    "suicides2=gdp_2005_df_top_6['suicides/100k pop']\n",
    "\n",
    "# Tell matplotlib where we would like to place each of our x axis headers\n",
    "plt.figure(figsize=(10,7))\n",
    "plt.bar(country2, suicides2, color=\"lightcoral\", align=\"center\")\n",
    "\n",
    "# # Give the chart a title, x label, and y label\n",
    "plt.title(\"Top GDP for 2005\",fontsize=25)\n",
    "plt.xlabel(\"Country\",fontsize=15)\n",
    "plt.ylabel(\"Suicides Per 100,000 Population\",fontsize=15)\n",
    "plt.rcParams['font.size'] = 12.0\n",
    "\n",
    "plt.savefig('top_gdp_2005.png')"
   ]
  },
  {
   "cell_type": "markdown",
   "metadata": {},
   "source": [
    "##  Info  for \"GDP for 2015\""
   ]
  },
  {
   "cell_type": "code",
   "execution_count": 193,
   "metadata": {},
   "outputs": [],
   "source": [
    "# It is possible to sort based upon multiple columns\n",
    "# here we are sorting by highest gdp\n",
    "sort_gdp_df = su_vs_gdp_df.sort_values([\"year_gdp\"], ascending=False)\n",
    "\n",
    "# Filter the data so that only those in 2015 are in a DataFrame and save as new dataframe(df)\n",
    "gdp_2015_df = sort_gdp_df.query(\"year == '2015'\")\n",
    "gdp_2015_df.head(6)\n",
    "\n",
    "#Create new dataframe(df) to hold top x countries with highest year_gdp\n",
    "gdp_2015_df_top_6 = gdp_2015_df.head(6)\n",
    "gdp_2015_df_top_6\n",
    "\n",
    "ind=('United States', 'Japan', 'Germany', 'United Kingdom', 'France', 'Italy')\n",
    "\n",
    "\n",
    "# Create an array that contains the number of users each language has\n",
    "country2015= gdp_2015_df_top_6['country'].tolist()\n",
    "suicides2015=gdp_2015_df_top_6['suicides/100k pop'].tolist()\n",
    "country2005= gdp_2005_df_top_6['country'].tolist()\n",
    "suicides2005=gdp_2005_df_top_6['suicides/100k pop'].tolist()\n"
   ]
  },
  {
   "cell_type": "code",
   "execution_count": 194,
   "metadata": {},
   "outputs": [
    {
     "data": {
      "text/html": [
       "<div>\n",
       "<style scoped>\n",
       "    .dataframe tbody tr th:only-of-type {\n",
       "        vertical-align: middle;\n",
       "    }\n",
       "\n",
       "    .dataframe tbody tr th {\n",
       "        vertical-align: top;\n",
       "    }\n",
       "\n",
       "    .dataframe thead th {\n",
       "        text-align: right;\n",
       "    }\n",
       "</style>\n",
       "<table border=\"1\" class=\"dataframe\">\n",
       "  <thead>\n",
       "    <tr style=\"text-align: right;\">\n",
       "      <th></th>\n",
       "      <th>country-year</th>\n",
       "      <th>country</th>\n",
       "      <th>year</th>\n",
       "      <th>suicides_no</th>\n",
       "      <th>population</th>\n",
       "      <th>suicides/100k pop</th>\n",
       "      <th>year_gdp</th>\n",
       "      <th>gdp_per_capita</th>\n",
       "    </tr>\n",
       "  </thead>\n",
       "  <tbody>\n",
       "    <tr>\n",
       "      <th>2270</th>\n",
       "      <td>United States2015</td>\n",
       "      <td>United States</td>\n",
       "      <td>2015</td>\n",
       "      <td>44189</td>\n",
       "      <td>300078511</td>\n",
       "      <td>175.41</td>\n",
       "      <td>1.810000e+13</td>\n",
       "      <td>$60,387.00</td>\n",
       "    </tr>\n",
       "    <tr>\n",
       "      <th>1145</th>\n",
       "      <td>Japan2015</td>\n",
       "      <td>Japan</td>\n",
       "      <td>2015</td>\n",
       "      <td>23092</td>\n",
       "      <td>120376310</td>\n",
       "      <td>206.04</td>\n",
       "      <td>4.390000e+12</td>\n",
       "      <td>$36,510.00</td>\n",
       "    </tr>\n",
       "    <tr>\n",
       "      <th>835</th>\n",
       "      <td>Germany2015</td>\n",
       "      <td>Germany</td>\n",
       "      <td>2015</td>\n",
       "      <td>10088</td>\n",
       "      <td>78136683</td>\n",
       "      <td>150.34</td>\n",
       "      <td>3.380000e+12</td>\n",
       "      <td>$43,201.00</td>\n",
       "    </tr>\n",
       "    <tr>\n",
       "      <th>2239</th>\n",
       "      <td>United Kingdom2015</td>\n",
       "      <td>United Kingdom</td>\n",
       "      <td>2015</td>\n",
       "      <td>4910</td>\n",
       "      <td>61082942</td>\n",
       "      <td>86.74</td>\n",
       "      <td>2.890000e+12</td>\n",
       "      <td>$47,240.00</td>\n",
       "    </tr>\n",
       "    <tr>\n",
       "      <th>1097</th>\n",
       "      <td>Italy2015</td>\n",
       "      <td>Italy</td>\n",
       "      <td>2015</td>\n",
       "      <td>3988</td>\n",
       "      <td>58117697</td>\n",
       "      <td>78.45</td>\n",
       "      <td>1.830000e+12</td>\n",
       "      <td>$31,537.00</td>\n",
       "    </tr>\n",
       "    <tr>\n",
       "      <th>378</th>\n",
       "      <td>Brazil2015</td>\n",
       "      <td>Brazil</td>\n",
       "      <td>2015</td>\n",
       "      <td>11163</td>\n",
       "      <td>191087085</td>\n",
       "      <td>77.45</td>\n",
       "      <td>1.800000e+12</td>\n",
       "      <td>$9,431.00</td>\n",
       "    </tr>\n",
       "  </tbody>\n",
       "</table>\n",
       "</div>"
      ],
      "text/plain": [
       "            country-year         country  year  suicides_no  population  \\\n",
       "2270   United States2015   United States  2015        44189   300078511   \n",
       "1145           Japan2015           Japan  2015        23092   120376310   \n",
       "835          Germany2015         Germany  2015        10088    78136683   \n",
       "2239  United Kingdom2015  United Kingdom  2015         4910    61082942   \n",
       "1097           Italy2015           Italy  2015         3988    58117697   \n",
       "378           Brazil2015          Brazil  2015        11163   191087085   \n",
       "\n",
       "      suicides/100k pop      year_gdp gdp_per_capita  \n",
       "2270             175.41  1.810000e+13    $60,387.00   \n",
       "1145             206.04  4.390000e+12    $36,510.00   \n",
       "835              150.34  3.380000e+12    $43,201.00   \n",
       "2239              86.74  2.890000e+12    $47,240.00   \n",
       "1097              78.45  1.830000e+12    $31,537.00   \n",
       "378               77.45  1.800000e+12     $9,431.00   "
      ]
     },
     "execution_count": 194,
     "metadata": {},
     "output_type": "execute_result"
    }
   ],
   "source": [
    "gdp_2015_df_top_6"
   ]
  },
  {
   "cell_type": "markdown",
   "metadata": {},
   "source": [
    "## BAR CHART Top GDP for 2015"
   ]
  },
  {
   "cell_type": "code",
   "execution_count": 195,
   "metadata": {},
   "outputs": [
    {
     "data": {
      "image/png": "[encoded data removed]",
      "text/plain": [
       "<Figure size 720x504 with 1 Axes>"
      ]
     },
     "metadata": {
      "needs_background": "light"
     },
     "output_type": "display_data"
    }
   ],
   "source": [
    "# It is possible to sort based upon multiple columns\n",
    "# here we are sorting by highest gdp\n",
    "sort_gdp_df = su_vs_gdp_df.sort_values([\"year_gdp\"], ascending=False)\n",
    "\n",
    "# Filter the data so that only those in 2015 are in a DataFrame and save as new dataframe(df)\n",
    "gdp_2015_df = sort_gdp_df.query(\"year == '2015'\")\n",
    "gdp_2015_df.head(6)\n",
    "\n",
    "#Create new dataframe(df) to hold top x countries with highest year_gdp\n",
    "gdp_2015_df_top_6 = gdp_2015_df.head(6)\n",
    "gdp_2015_df_top_6\n",
    "\n",
    "\n",
    "# Create an array that contains the number of users each language has\n",
    "country1= gdp_2015_df_top_6['country']\n",
    "suicides1=gdp_2015_df_top_6['suicides/100k pop']\n",
    "\n",
    "# Tell matplotlib where we would like to place each of our x axis headers\n",
    "plt.figure(figsize=(10,7))\n",
    "plt.bar(country1, suicides1, color=\"blue\", align=\"center\")\n",
    "\n",
    "# # Give the chart a title, x label, and y label\n",
    "plt.title(\"Top GDP for 2015\",fontsize=25)\n",
    "plt.xlabel(\"Country\",fontsize=15)\n",
    "plt.ylabel(\"Suicides Per 100,000 Population\",fontsize=15)\n",
    "plt.rcParams['font.size'] = 12.0\n",
    "\n",
    "plt.savefig('top_gdp_2015.png')\n"
   ]
  },
  {
   "cell_type": "code",
   "execution_count": 196,
   "metadata": {},
   "outputs": [],
   "source": [
    "# Create new df for top 4 gdp countries and their suicide rates for comparison\n",
    "\n",
    "sui_top4_2015 = suicides1.head(4)\n",
    "\n",
    "sui_top4_2005 = suicides2.head(4)\n"
   ]
  },
  {
   "cell_type": "markdown",
   "metadata": {},
   "source": [
    "## GDP 2015 vs 2005"
   ]
  },
  {
   "cell_type": "code",
   "execution_count": 199,
   "metadata": {},
   "outputs": [
    {
     "data": {
      "image/png": "[encoded data removed]",
      "text/plain": [
       "<Figure size 720x504 with 1 Axes>"
      ]
     },
     "metadata": {
      "needs_background": "light"
     },
     "output_type": "display_data"
    },
    {
     "data": {
      "text/plain": [
       "<Figure size 432x288 with 0 Axes>"
      ]
     },
     "metadata": {},
     "output_type": "display_data"
    }
   ],
   "source": [
    "# Create List\n",
    "N = 4\n",
    "suicides_2015 = (sui_top4_2015)\n",
    "\n",
    "suicides_2005 = (sui_top4_2005)\n",
    "\n",
    "\n",
    "# width = 0.35    \n",
    "\n",
    "plt.figure(figsize=(10,7))\n",
    "# plt.bar(ind, suicides2015, color=\"blue\", align=\"center\")\n",
    "# plt.bar(ind + width, suicides2005, color=\"red\", align=\"center\")\n",
    "# # # Give the chart a title,suicides2005 x label, and y label\n",
    "plt.title(\"GDP 2015 vs. GDP 2005\",fontsize=25)\n",
    "plt.xlabel(\"Country\",fontsize=15)\n",
    "plt.ylabel(\"Suicides Per 100,000 Population\",fontsize=15)\n",
    "# plt.rcParams['font.size'] = 12.0\n",
    "plt.xticks(range(4),['United States', 'Japan', 'Germany', 'United Kingdom'])  \n",
    "\n",
    "ind = np.arange(N) \n",
    "width = 0.35       \n",
    "plt.bar(ind, suicides_2015, width, color='blue', label='2015')\n",
    "plt.bar(ind + width, suicides_2005, width, color='lightcoral',\n",
    "    label='2005')\n",
    "\n",
    "\n",
    "plt.legend(loc='best')\n",
    "plt.show()\n",
    "\n",
    "plt.savefig('GDP_2015_vs_2005.png')"
   ]
  },
  {
   "cell_type": "code",
   "execution_count": null,
   "metadata": {},
   "outputs": [],
   "source": []
  },
  {
   "cell_type": "code",
   "execution_count": null,
   "metadata": {},
   "outputs": [],
   "source": []
  },
  {
   "cell_type": "code",
   "execution_count": null,
   "metadata": {},
   "outputs": [],
   "source": []
  }
 ],
 "metadata": {
  "kernelspec": {
   "display_name": "Python 3",
   "language": "python",
   "name": "python3"
  },
  "language_info": {
   "codemirror_mode": {
    "name": "ipython",
    "version": 3
   },
   "file_extension": ".py",
   "mimetype": "text/x-python",
   "name": "python",
   "nbconvert_exporter": "python",
   "pygments_lexer": "ipython3",
   "version": "3.7.1"
  }
 },
 "nbformat": 4,
 "nbformat_minor": 2
}
