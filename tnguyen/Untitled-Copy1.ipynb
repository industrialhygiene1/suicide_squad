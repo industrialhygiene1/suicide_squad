{
 "cells": [
  {
   "cell_type": "code",
   "execution_count": 104,
   "metadata": {},
   "outputs": [],
   "source": [
    "#Dependencies\n",
    "\n",
    "import requests\n",
    "import json\n",
    "from matplotlib import pyplot as plt\n",
    "from scipy.stats import linregress\n",
    "import numpy as np\n",
    "import pandas as pd\n",
    "import matplotlib.pyplot as plt"
   ]
  },
  {
   "cell_type": "code",
   "execution_count": 105,
   "metadata": {},
   "outputs": [
    {
     "data": {
      "text/plain": [
       "Index(['index', 'country', 'year', 'sex', 'age', 'suicides_no', 'population',\n",
       "       'suicides/100k pop', 'country-year', 'year_gdp', 'gdp_per_capita ($)',\n",
       "       'generation'],\n",
       "      dtype='object')"
      ]
     },
     "execution_count": 105,
     "metadata": {},
     "output_type": "execute_result"
    }
   ],
   "source": [
    "# The path to our CSV file\n",
    "#(name the file we are going to read as \"file_gdp\")\n",
    "file_gdp = \"suicides_vs_gdp_o.csv\"\n",
    "\n",
    "# Read Suicide Data our Kickstarter data into pandas \n",
    "#rename it as a dataframe(df) for ease of readibiity\n",
    "su_vs_gdp_o_df = pd.read_csv(file_gdp)\n",
    "\n",
    "# Display all columns \n",
    "su_vs_gdp_o_df.columns\n",
    "\n"
   ]
  },
  {
   "cell_type": "code",
   "execution_count": 106,
   "metadata": {},
   "outputs": [
    {
     "name": "stdout",
     "output_type": "stream",
     "text": [
      "<class 'pandas.core.frame.DataFrame'>\n",
      "RangeIndex: 27820 entries, 0 to 27819\n",
      "Data columns (total 12 columns):\n",
      "index                 27820 non-null int64\n",
      "country               27820 non-null object\n",
      "year                  27820 non-null int64\n",
      "sex                   27820 non-null object\n",
      "age                   27820 non-null object\n",
      "suicides_no           27820 non-null int64\n",
      "population            27820 non-null int64\n",
      "suicides/100k pop     27820 non-null float64\n",
      "country-year          27820 non-null object\n",
      "year_gdp              27820 non-null int64\n",
      "gdp_per_capita ($)    27820 non-null object\n",
      "generation            27820 non-null object\n",
      "dtypes: float64(1), int64(5), object(6)\n",
      "memory usage: 2.5+ MB\n"
     ]
    }
   ],
   "source": [
    "# Display information of the df\n",
    "su_vs_gdp_o_df.info()"
   ]
  },
  {
   "cell_type": "code",
   "execution_count": 107,
   "metadata": {},
   "outputs": [],
   "source": [
    "# Group using 'country-year' column and using the aggregate command to define/combine data to respective column.\n",
    "# for ease of readibility(also we are ommitting columns we do not need)\n",
    "su_vs_gdp_df = su_vs_gdp_o_df.groupby('country-year').agg({'country':'first', 'year':'first', \n",
    "                                                           'suicides_no':'sum','population':'sum', \n",
    "                                                           'suicides/100k pop':'sum',\n",
    "                                                           'year_gdp':'first',\n",
    "                                                           'gdp_per_capita ($)':'first'}).reset_index()\n",
    "\n"
   ]
  },
  {
   "cell_type": "code",
   "execution_count": 108,
   "metadata": {},
   "outputs": [
    {
     "data": {
      "text/html": [
       "<div>\n",
       "<style scoped>\n",
       "    .dataframe tbody tr th:only-of-type {\n",
       "        vertical-align: middle;\n",
       "    }\n",
       "\n",
       "    .dataframe tbody tr th {\n",
       "        vertical-align: top;\n",
       "    }\n",
       "\n",
       "    .dataframe thead th {\n",
       "        text-align: right;\n",
       "    }\n",
       "</style>\n",
       "<table border=\"1\" class=\"dataframe\">\n",
       "  <thead>\n",
       "    <tr style=\"text-align: right;\">\n",
       "      <th></th>\n",
       "      <th>country-year</th>\n",
       "      <th>country</th>\n",
       "      <th>year</th>\n",
       "      <th>suicides_no</th>\n",
       "      <th>population</th>\n",
       "      <th>suicides/100k pop</th>\n",
       "      <th>year_gdp</th>\n",
       "      <th>gdp_per_capita ($)</th>\n",
       "    </tr>\n",
       "  </thead>\n",
       "  <tbody>\n",
       "    <tr>\n",
       "      <th>2260</th>\n",
       "      <td>United States2005</td>\n",
       "      <td>United States</td>\n",
       "      <td>2005</td>\n",
       "      <td>32629</td>\n",
       "      <td>276106680</td>\n",
       "      <td>146.68</td>\n",
       "      <td>13100000000000</td>\n",
       "      <td>$47,423.00</td>\n",
       "    </tr>\n",
       "    <tr>\n",
       "      <th>1135</th>\n",
       "      <td>Japan2005</td>\n",
       "      <td>Japan</td>\n",
       "      <td>2005</td>\n",
       "      <td>30369</td>\n",
       "      <td>120657507</td>\n",
       "      <td>266.89</td>\n",
       "      <td>4760000000000</td>\n",
       "      <td>$39,412.00</td>\n",
       "    </tr>\n",
       "    <tr>\n",
       "      <th>825</th>\n",
       "      <td>Germany2005</td>\n",
       "      <td>Germany</td>\n",
       "      <td>2005</td>\n",
       "      <td>10270</td>\n",
       "      <td>78851254</td>\n",
       "      <td>161.49</td>\n",
       "      <td>2860000000000</td>\n",
       "      <td>$36,289.00</td>\n",
       "    </tr>\n",
       "    <tr>\n",
       "      <th>2229</th>\n",
       "      <td>United Kingdom2005</td>\n",
       "      <td>United Kingdom</td>\n",
       "      <td>2005</td>\n",
       "      <td>4047</td>\n",
       "      <td>56809024</td>\n",
       "      <td>79.16</td>\n",
       "      <td>2520000000000</td>\n",
       "      <td>$44,372.00</td>\n",
       "    </tr>\n",
       "    <tr>\n",
       "      <th>778</th>\n",
       "      <td>France2005</td>\n",
       "      <td>France</td>\n",
       "      <td>2005</td>\n",
       "      <td>10713</td>\n",
       "      <td>57160687</td>\n",
       "      <td>232.09</td>\n",
       "      <td>2200000000000</td>\n",
       "      <td>$38,420.00</td>\n",
       "    </tr>\n",
       "    <tr>\n",
       "      <th>1087</th>\n",
       "      <td>Italy2005</td>\n",
       "      <td>Italy</td>\n",
       "      <td>2005</td>\n",
       "      <td>3742</td>\n",
       "      <td>55244690</td>\n",
       "      <td>82.59</td>\n",
       "      <td>1850000000000</td>\n",
       "      <td>$33,536.00</td>\n",
       "    </tr>\n",
       "  </tbody>\n",
       "</table>\n",
       "</div>"
      ],
      "text/plain": [
       "            country-year         country  year  suicides_no  population  \\\n",
       "2260   United States2005   United States  2005        32629   276106680   \n",
       "1135           Japan2005           Japan  2005        30369   120657507   \n",
       "825          Germany2005         Germany  2005        10270    78851254   \n",
       "2229  United Kingdom2005  United Kingdom  2005         4047    56809024   \n",
       "778           France2005          France  2005        10713    57160687   \n",
       "1087           Italy2005           Italy  2005         3742    55244690   \n",
       "\n",
       "      suicides/100k pop        year_gdp gdp_per_capita ($)  \n",
       "2260             146.68  13100000000000        $47,423.00   \n",
       "1135             266.89   4760000000000        $39,412.00   \n",
       "825              161.49   2860000000000        $36,289.00   \n",
       "2229              79.16   2520000000000        $44,372.00   \n",
       "778              232.09   2200000000000        $38,420.00   \n",
       "1087              82.59   1850000000000        $33,536.00   "
      ]
     },
     "execution_count": 108,
     "metadata": {},
     "output_type": "execute_result"
    }
   ],
   "source": [
    "# It is possible to sort based upon multiple columns\n",
    "# here we are sorting by highest gdp\n",
    "sort_gdp_df = su_vs_gdp_df.sort_values([\"year_gdp\"], ascending=False)\n",
    "\n",
    "# Filter the data so that only those in 2005 are in a DataFrame and save as new dataframe(df)\n",
    "gdp_2005_df = sort_gdp_df.query(\"year == '2005'\")\n",
    "\n",
    "\n",
    "\n",
    "Us_2005 = gdp_2005_df.loc[gdp_2005_df['country']=='United States']\n",
    "Japan_2005 = gdp_2005_df.loc[gdp_2005_df['country']=='Japan']\n",
    "Germany_2005 = gdp_2005_df.loc[gdp_2005_df['country']=='Germany']\n",
    "United_Kingdom_2005 = gdp_2005_df.loc[gdp_2005_df['country']=='United Kingdom']\n",
    "Italy_2005 = gdp_2005_df.loc[gdp_2005_df['country']=='Italy']\n",
    "Brazil_2005 = gdp_2005_df.loc[gdp_2005_df['country']=='Brazil']\n",
    "\n",
    "#Create new dataframe(df) to hold top x countries with highest year_gdp\n",
    "gdp_2005_df = gdp_2005_df\n",
    "gdp_2005_df.head(6)\n",
    "\n",
    "# Create an array that contains the number of users each language has\n",
    "country2005= gdp_2005_df.head(6)['country']\n",
    "suicides2005=gdp_2005_df.head(6)['suicides/100k pop']\n",
    "gdp_2005_df_top_6= gdp_2005_df.head(6)\n",
    "\n",
    "gdp_2005_df_top_6"
   ]
  },
  {
   "cell_type": "markdown",
   "metadata": {},
   "source": [
    "##  Info  for \"GDP for 2015\""
   ]
  },
  {
   "cell_type": "code",
   "execution_count": 109,
   "metadata": {},
   "outputs": [],
   "source": [
    "# It is possible to sort based upon multiple columns\n",
    "# here we are sorting by highest gdp\n",
    "sort_gdp_df = su_vs_gdp_df.sort_values([\"year_gdp\"], ascending=False)\n",
    "\n",
    "# Filter the data so that only those in 2015 are in a DataFrame and save as new dataframe(df)\n",
    "gdp_2015_df = sort_gdp_df.query(\"year == '2015'\")\n",
    "gdp_2015_df.head(6)\n",
    "\n",
    "#Create new dataframe(df) to hold top x countries with highest year_gdp\n",
    "gdp_2015_df_top_6 = gdp_2015_df.head(6)\n",
    "gdp_2015_df_top_6\n",
    "\n",
    "ind=('United States', 'Japan', 'Germany', 'United Kingdom', 'France', 'Italy')\n",
    "\n",
    "\n",
    "# Create an array that contains the number of users each language has\n",
    "country2015= gdp_2015_df_top_6['country'].tolist()\n",
    "suicides2015=gdp_2015_df_top_6['suicides/100k pop'].tolist()\n",
    "country2005= gdp_2005_df_top_6['country'].tolist()\n",
    "suicides2005=gdp_2005_df_top_6['suicides/100k pop'].tolist()\n"
   ]
  },
  {
   "cell_type": "markdown",
   "metadata": {},
   "source": [
    "## PIE CHART Top GDP for 2015"
   ]
  },
  {
   "cell_type": "code",
   "execution_count": 110,
   "metadata": {},
   "outputs": [
    {
     "data": {
      "image/png": "[encoded data removed]",
      "text/plain": [
       "<Figure size 720x504 with 1 Axes>"
      ]
     },
     "metadata": {
      "needs_background": "light"
     },
     "output_type": "display_data"
    }
   ],
   "source": [
    "# It is possible to sort based upon multiple columns\n",
    "# here we are sorting by highest gdp\n",
    "sort_gdp_df = su_vs_gdp_df.sort_values([\"year_gdp\"], ascending=False)\n",
    "\n",
    "# Filter the data so that only those in 2015 are in a DataFrame and save as new dataframe(df)\n",
    "gdp_2015_df = sort_gdp_df.query(\"year == '2015'\")\n",
    "gdp_2015_df.head(6)\n",
    "\n",
    "#Create new dataframe(df) to hold top x countries with highest year_gdp\n",
    "gdp_2015_df_top_6 = gdp_2015_df.head(6)\n",
    "gdp_2015_df_top_6\n",
    "\n",
    "\n",
    "# Create an array that contains the number of users each language has\n",
    "country1= gdp_2015_df_top_6['country']\n",
    "suicides1=gdp_2015_df_top_6['suicides/100k pop']\n",
    "\n",
    "# Tell matplotlib where we would like to place each of our x axis headers\n",
    "plt.figure(figsize=(10,7))\n",
    "plt.bar(country1, suicides1, color=\"blue\", align=\"center\")\n",
    "\n",
    "# # Give the chart a title, x label, and y label\n",
    "plt.title(\"Top GDP for 2015\",fontsize=25)\n",
    "plt.xlabel(\"Country\",fontsize=15)\n",
    "plt.ylabel(\"Suicides Per 100,000 Population\",fontsize=15)\n",
    "plt.rcParams['font.size'] = 12.0\n",
    "\n",
    "plt.savefig('top_gdp.png')\n"
   ]
  },
  {
   "cell_type": "markdown",
   "metadata": {},
   "source": [
    "## GDP 2015 vs 2005"
   ]
  },
  {
   "cell_type": "code",
   "execution_count": 111,
   "metadata": {},
   "outputs": [
    {
     "data": {
      "image/png": "[encoded data removed]",
      "text/plain": [
       "<Figure size 1080x720 with 1 Axes>"
      ]
     },
     "metadata": {
      "needs_background": "light"
     },
     "output_type": "display_data"
    }
   ],
   "source": [
    "# Create List\n",
    "N = 6\n",
    "suicides_2015 = (suicides2015)\n",
    "suicides_2005 = (suicides2005)\n",
    "\n",
    "\n",
    "# width = 0.35    \n",
    "plt.figure(figsize=(15,10))\n",
    "# plt.bar(ind, suicides2015, color=\"blue\", align=\"center\")\n",
    "# plt.bar(ind + width, suicides2005, color=\"red\", align=\"center\")\n",
    "# # # Give the chart a title,suicides2005 x label, and y label\n",
    "plt.title(\"GDP 2015 vs. GDP 2005\",fontsize=25)\n",
    "plt.xlabel(\"Country\",fontsize=15)\n",
    "plt.ylabel(\"Suicides Per 100,000 Population\",fontsize=15)\n",
    "# plt.rcParams['font.size'] = 12.0\n",
    "plt.xticks(range(6),['United States', 'Japan', 'Germany', 'United Kingdom', 'France', 'Italy'])  \n",
    "\n",
    "ind = np.arange(N) \n",
    "width = 0.35       \n",
    "plt.bar(ind, suicides_2015, width, color='blue', label='2015')\n",
    "plt.bar(ind + width, suicides_2005, width, color='lightcoral',\n",
    "    label='2005')\n",
    "\n",
    "\n",
    "plt.legend(loc='best')\n",
    "plt.show()"
   ]
  },
  {
   "cell_type": "code",
   "execution_count": null,
   "metadata": {},
   "outputs": [],
   "source": []
  },
  {
   "cell_type": "code",
   "execution_count": null,
   "metadata": {},
   "outputs": [],
   "source": []
  },
  {
   "cell_type": "code",
   "execution_count": null,
   "metadata": {},
   "outputs": [],
   "source": []
  },
  {
   "cell_type": "markdown",
   "metadata": {},
   "source": [
    "## Create PIE CHART  for \"TOP SUICIDE\""
   ]
  },
  {
   "cell_type": "code",
   "execution_count": 55,
   "metadata": {},
   "outputs": [
    {
     "data": {
      "text/plain": [
       "Text(0, 0.5, 'GDP for 2015')"
      ]
     },
     "execution_count": 55,
     "metadata": {},
     "output_type": "execute_result"
    },
    {
     "data": {
      "image/png": "[encoded data removed]",
      "text/plain": [
       "<Figure size 720x504 with 1 Axes>"
      ]
     },
     "metadata": {
      "needs_background": "light"
     },
     "output_type": "display_data"
    }
   ],
   "source": [
    "# It is possible to sort based upon multiple columns\n",
    "# here we are sorting by highest suicide rate\n",
    "sort_suicide_df = su_vs_gdp_df.sort_values(\n",
    "    [\"suicides/100k pop\"], ascending=False)\n",
    "sort_suicide_df.head()\n",
    "\n",
    "# Filter so that only those in 2015 are in a DataFrame and save as new dataframe(df)\n",
    "suicide_2015_df = sort_suicide_df.query(\"year == '2015'\")\n",
    "suicide_2015_df.head()\n",
    "\n",
    "# Create an array that contains the number of users each language has\n",
    "country2 = suicide_2015_df.head()['country']\n",
    "gdp2 = suicide_2015_df.head()['year_gdp']\n",
    "\n",
    "# Tell matplotlib we want to establish a bar graph and indicate its size\n",
    "plt.figure(figsize=(10,7))\n",
    "plt.bar(country2, gdp2, color=\"blue\", align=\"center\")\n",
    "\n",
    "# # Give the chart a title, x label, and y label\n",
    "plt.title(\"Top Suicide Rate (per 100k) for 2015\", fontsize=25)\n",
    "plt.xlabel(\"Countries with Suicides over 250\", fontsize=15)\n",
    "plt.ylabel(\"GDP for 2015\", fontsize=15)\n",
    "\n",
    "# Save image\n",
    "#plt.savefig('top_suicide.png')\n"
   ]
  },
  {
   "cell_type": "code",
   "execution_count": null,
   "metadata": {},
   "outputs": [],
   "source": []
  },
  {
   "cell_type": "code",
   "execution_count": null,
   "metadata": {},
   "outputs": [],
   "source": []
  },
  {
   "cell_type": "code",
   "execution_count": null,
   "metadata": {},
   "outputs": [],
   "source": []
  }
 ],
 "metadata": {
  "kernelspec": {
   "display_name": "Python 3",
   "language": "python",
   "name": "python3"
  },
  "language_info": {
   "codemirror_mode": {
    "name": "ipython",
    "version": 3
   },
   "file_extension": ".py",
   "mimetype": "text/x-python",
   "name": "python",
   "nbconvert_exporter": "python",
   "pygments_lexer": "ipython3",
   "version": "3.7.1"
  }
 },
 "nbformat": 4,
 "nbformat_minor": 2
}
